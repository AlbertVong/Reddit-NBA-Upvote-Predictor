{
 "cells": [
  {
   "cell_type": "markdown",
   "metadata": {},
   "source": [
    "# Preamble and Objective\n",
    "\n",
    "One of my favourite pastimes is following basketball, particularly through the subreddit r/nba. The users here are particularly well versed at making funny/snarky references to recent controversies surrounding what nba athletes have said/done. This type of wit is well reflected in the types of posts that are made, especially with the titles.\n",
    "\n",
    "For example, the past two months has seen a surge in post titles either disparaging or supporting one of three MVP frontrunner candidates: Joel Embiid, Nikola Jokic and Giannis Antetokounmpo. It's very clear when looking at popular post titles whether the objective is to make a case for a particular candidate, or to slander another.\n",
    "\n",
    "This led to a curious question I had regarding the likelihood of a given post to make the front page, given its topic and specific wording of the submission title. Is it possible, by training a language model using the number of upvotes as a target, to estimate how many upvotes a post will have given a title?\n",
    "\n",
    "An interesting secondary objective would be to generate a post title given some sort of contextual prompt, which will be a bit trickier and I'll try to dig into given enough time."
   ]
  },
  {
   "cell_type": "markdown",
   "metadata": {},
   "source": [
    "# Retrieving reddit post data from r/nba"
   ]
  },
  {
   "cell_type": "markdown",
   "metadata": {},
   "source": [
    "We want to get training data from the past year (recent), which does not seem currently possible with one of the most popular options (Praw). This is because Praw limits the number of requests to 1000, and also has fewer options for time windowing (we want more recent data).\n",
    "\n",
    "We supplement Praw with the library **Pmaw** (https://github.com/mattpodolak/pmaw), which is a wrapper for the Pushshift API. This API can essentially send multiple api requests via multithreading, automating what would typically be a fairly painful procedure of extracting submission posts larger than the inherent limit imposed by praw."
   ]
  },
  {
   "cell_type": "code",
   "execution_count": 33,
   "metadata": {},
   "outputs": [],
   "source": [
    "import praw as pw\n",
    "from pmaw import PushshiftAPI\n",
    "import pandas as pd\n",
    "import numpy as np\n",
    "from datetime import datetime\n",
    "from datetime import timezone\n",
    "import pickle\n",
    "import random\n"
   ]
  },
  {
   "cell_type": "markdown",
   "metadata": {},
   "source": [
    "Let's first initialize Praw using client ids/keys provided by reddit"
   ]
  },
  {
   "cell_type": "code",
   "execution_count": 26,
   "metadata": {},
   "outputs": [],
   "source": [
    "client_script_id = 'WVbksVUPLUPEqE6u4ZYCWw'\n",
    "secret_key = 'g9NWBR9wa855W-OFX6Yb0_NAzQgWcg'"
   ]
  },
  {
   "cell_type": "code",
   "execution_count": 3,
   "metadata": {},
   "outputs": [],
   "source": [
    "#Create a read-only reddit instance. Note you need to refresh this every once in a while so let's just put this into a function\n",
    "def refresh_reddit():\n",
    "    reddit = pw.Reddit(client_id = client_script_id,\n",
    "                    client_secret = secret_key,\n",
    "                    redirect_uri = 'http://localhost:8080',\n",
    "                    user_agent = 'Butsicles')\n",
    "\n",
    "    return reddit"
   ]
  },
  {
   "cell_type": "code",
   "execution_count": 34,
   "metadata": {},
   "outputs": [],
   "source": [
    "reddit = refresh_reddit()"
   ]
  },
  {
   "cell_type": "code",
   "execution_count": 4,
   "metadata": {},
   "outputs": [],
   "source": [
    "reddit = refresh_reddit()\n",
    "api_praw = PushshiftAPI(num_workers=15, praw = reddit)"
   ]
  },
  {
   "cell_type": "code",
   "execution_count": 17,
   "metadata": {},
   "outputs": [
    {
     "ename": "AttributeError",
     "evalue": "'PushshiftAPI' object has no attribute 'metadata'",
     "output_type": "error",
     "traceback": [
      "\u001b[0;31m---------------------------------------------------------------------------\u001b[0m",
      "\u001b[0;31mAttributeError\u001b[0m                            Traceback (most recent call last)",
      "Cell \u001b[0;32mIn[17], line 1\u001b[0m\n\u001b[0;32m----> 1\u001b[0m api_praw\u001b[39m.\u001b[39;49mmetadata\u001b[39m.\u001b[39m_get(\u001b[39m'\u001b[39m\u001b[39mshards\u001b[39m\u001b[39m'\u001b[39m)\n",
      "\u001b[0;31mAttributeError\u001b[0m: 'PushshiftAPI' object has no attribute 'metadata'"
     ]
    }
   ],
   "source": [
    "api_praw.metadata._get('shards')"
   ]
  },
  {
   "cell_type": "markdown",
   "metadata": {},
   "source": [
    "Given we've created a read-only reddit instance, we'll now filter for posts from a specific subreddit using some of the filter options available from the Pmaw documentation here: https://github.com/pushshift/api#searching-submissions. We'll be focusing on the supported function: search_submissions"
   ]
  },
  {
   "cell_type": "code",
   "execution_count": 5,
   "metadata": {},
   "outputs": [],
   "source": [
    "#Let's define some of the parameters we care about, based on filtering for posts with a \"high\" number of upvotes.\n",
    "vote_threshold = 500 #Arbitrary number\n",
    "date_after = '150d' #Epoch value or Integer + \"s,m,h,d\" (i.e. 30d for 30 days), check PMAW \"searching-submissions\" doc above\n",
    "date_before = '130d'\n",
    "subreddit_name = 'nba'\n"
   ]
  },
  {
   "cell_type": "code",
   "execution_count": 6,
   "metadata": {},
   "outputs": [
    {
     "data": {
      "text/plain": [
       "1670688000"
      ]
     },
     "execution_count": 6,
     "metadata": {},
     "output_type": "execute_result"
    }
   ],
   "source": [
    "start_date = datetime(2022,12,10,10,0) #January 1 2023 10 am\n",
    "start_date_utc = int(start_date.timestamp())\n",
    "\n",
    "end_date = datetime(2022,12,11,10,0) #January 1 2023 10 am\n",
    "end_date_utc = int(end_date.timestamp())\n",
    "\n",
    "start_date_utc\n",
    "\n"
   ]
  },
  {
   "cell_type": "code",
   "execution_count": 14,
   "metadata": {},
   "outputs": [],
   "source": [
    "#Generate x sampling periods with start and end datetime windows\n",
    "\n",
    "day_length = 24 * 3600 #The amount of time in one day\n",
    "\n",
    "\n",
    "n_samples = 60 #The number of sampling periods\n",
    "\n",
    "start_date = int(datetime(2019,10,1,0,0).timestamp())\n",
    "\n",
    "start_times = [start_date]\n",
    "end_times = []\n",
    "\n",
    "next_start_time = start_date\n",
    "\n",
    "for i in range(n_samples):\n",
    "    #Append the next starting time window to start_times\n",
    "    start_times.append(next_start_time)\n",
    "    #Calculate a random capture window for comments in this period\n",
    "    capture_window = int(random.uniform(day_length,day_length*2))\n",
    "    #Add this to the end_times list fo the corresponding ending time\n",
    "    end_times.append(next_start_time + capture_window)\n",
    "    #Add a random delay time for the next starting time\n",
    "    random_delay = int(random.uniform(day_length,day_length*3))\n",
    "    #Assign the next starting time\n",
    "    next_start_time = next_start_time + capture_window + random_delay\n",
    "\n",
    "\n",
    "\n",
    "\n",
    "\n"
   ]
  },
  {
   "cell_type": "code",
   "execution_count": 117,
   "metadata": {},
   "outputs": [
    {
     "data": {
      "text/plain": [
       "1633508361"
      ]
     },
     "execution_count": 117,
     "metadata": {},
     "output_type": "execute_result"
    }
   ],
   "source": [
    "end_times[1]"
   ]
  },
  {
   "cell_type": "code",
   "execution_count": 68,
   "metadata": {},
   "outputs": [
    {
     "data": {
      "text/plain": [
       "datetime.datetime(2020, 4, 21, 12, 10, 58)"
      ]
     },
     "execution_count": 68,
     "metadata": {},
     "output_type": "execute_result"
    }
   ],
   "source": [
    "datetime.fromtimestamp(end_times[-1])"
   ]
  },
  {
   "cell_type": "code",
   "execution_count": 20,
   "metadata": {},
   "outputs": [],
   "source": [
    "#Define function to retrieve submissions from reddit using pmaw (push-shift) with specified time window\n",
    "def retrieve_submissions(start,end):\n",
    "    submissions = api_praw.search_submissions(subreddit = 'nba',\n",
    "                                            after= start,\n",
    "                                            before = end,\n",
    "                                            # size=0,\n",
    "                                            metadata = True,\n",
    "                                            limit = 100)\n",
    "    return submissions"
   ]
  },
  {
   "cell_type": "code",
   "execution_count": 10,
   "metadata": {},
   "outputs": [],
   "source": [
    "#Define function to retrieve submissions from reddit using pmaw (push-shift) with specified time window\n",
    "def retrieve_comments(start,end):\n",
    "    submissions = api_praw.search_comments(subreddit = subreddit_name,\n",
    "                                            since= start,\n",
    "                                            # until = end,\n",
    "                                            # min_awards_received = 1,\n",
    "                                            limit = 1000)\n",
    "    return submissions"
   ]
  },
  {
   "cell_type": "code",
   "execution_count": 184,
   "metadata": {},
   "outputs": [],
   "source": [
    "#Works example\n",
    "test = retrieve_submissions(1506816000,1506902400)\n"
   ]
  },
  {
   "cell_type": "code",
   "execution_count": 21,
   "metadata": {},
   "outputs": [
    {
     "name": "stderr",
     "output_type": "stream",
     "text": [
      "Not all PushShift shards are active. Query results may be incomplete.\n"
     ]
    }
   ],
   "source": [
    "test = retrieve_submissions(start_times[0],end_times[0])"
   ]
  },
  {
   "cell_type": "code",
   "execution_count": 24,
   "metadata": {},
   "outputs": [
    {
     "data": {
      "text/plain": [
       "0"
      ]
     },
     "execution_count": 24,
     "metadata": {},
     "output_type": "execute_result"
    }
   ],
   "source": []
  },
  {
   "cell_type": "code",
   "execution_count": 16,
   "metadata": {},
   "outputs": [
    {
     "data": {
      "text/plain": [
       "0"
      ]
     },
     "execution_count": 16,
     "metadata": {},
     "output_type": "execute_result"
    }
   ],
   "source": [
    "len(test)"
   ]
  },
  {
   "cell_type": "code",
   "execution_count": 66,
   "metadata": {},
   "outputs": [
    {
     "name": "stderr",
     "output_type": "stream",
     "text": [
      "Not all PushShift shards are active. Query results may be incomplete.\n",
      "Not all PushShift shards are active. Query results may be incomplete.\n",
      "Not all PushShift shards are active. Query results may be incomplete.\n",
      "Not all PushShift shards are active. Query results may be incomplete.\n",
      "Not all PushShift shards are active. Query results may be incomplete.\n"
     ]
    }
   ],
   "source": [
    "#Query list of ids from all randomly determined sampling periods, and append results to a large list\n",
    "\n",
    "#Refresh reddit instance\n",
    "reddit = refresh_reddit()\n",
    "#Initiate pmaw api via praw\n",
    "api_praw = PushshiftAPI(num_workers=15, praw = reddit)\n",
    "\n",
    "ids_all = []\n",
    "\n",
    "#Grab all entries associated with the time windows calculated above\n",
    "for (start,end) in zip(start_times[-5:],end_times[-5:]):\n",
    "    submissions = retrieve_submissions(start,end)\n",
    "    submission_sublist = [s for s in submissions]\n",
    "    id_list = [f\"t3_{submission_sublist[i]['id']}\" for i,_ in enumerate(submission_sublist)]\n",
    "    [ids_all.append(id) for id in id_list]\n",
    "\n",
    "\n",
    "    "
   ]
  },
  {
   "cell_type": "code",
   "execution_count": 67,
   "metadata": {},
   "outputs": [
    {
     "data": {
      "text/plain": [
       "0"
      ]
     },
     "execution_count": 67,
     "metadata": {},
     "output_type": "execute_result"
    }
   ],
   "source": [
    "len(ids_all)"
   ]
  },
  {
   "cell_type": "code",
   "execution_count": 78,
   "metadata": {},
   "outputs": [],
   "source": [
    "with open('id_list_22to30.pkl','wb') as f:\n",
    "    pickle.dump(ids_all,f)"
   ]
  },
  {
   "cell_type": "code",
   "execution_count": 28,
   "metadata": {},
   "outputs": [],
   "source": [
    "with open('id_list_1to22.pkl','rb') as f:\n",
    "    data = pickle.load(f)"
   ]
  },
  {
   "cell_type": "code",
   "execution_count": 27,
   "metadata": {},
   "outputs": [],
   "source": [
    "submissions = api_praw.search_submissions(subreddit = subreddit_name,\n",
    "                                            since= start_date_utc,\n",
    "                                            until = end_date_utc,\n",
    "                                            limit = 100)"
   ]
  },
  {
   "cell_type": "code",
   "execution_count": null,
   "metadata": {},
   "outputs": [],
   "source": [
    "id_list = [f\"t3_{submission_list[i]['id']}\" for i,_ in enumerate(submission_list)]\n",
    "id_list"
   ]
  },
  {
   "cell_type": "code",
   "execution_count": 310,
   "metadata": {},
   "outputs": [],
   "source": [
    "id_list_t3 = [f\"t3_{post_id}\" for post_id in id_list]"
   ]
  },
  {
   "cell_type": "markdown",
   "metadata": {},
   "source": [
    "Using Praw with reddit.info to pull posts by id (this goes in batches of 100)"
   ]
  },
  {
   "cell_type": "code",
   "execution_count": 27,
   "metadata": {},
   "outputs": [],
   "source": [
    "reddit = refresh_reddit()\n"
   ]
  },
  {
   "attachments": {},
   "cell_type": "markdown",
   "metadata": {},
   "source": [
    "Use praw \".info\" method with the reddit instance to get information from submissions given their id"
   ]
  },
  {
   "cell_type": "code",
   "execution_count": 29,
   "metadata": {},
   "outputs": [
    {
     "data": {
      "text/plain": [
       "'t3_zilw6t'"
      ]
     },
     "execution_count": 29,
     "metadata": {},
     "output_type": "execute_result"
    }
   ],
   "source": [
    "data[0]"
   ]
  },
  {
   "cell_type": "code",
   "execution_count": 30,
   "metadata": {},
   "outputs": [],
   "source": [
    "test = reddit.info(fullnames=data[:5])"
   ]
  },
  {
   "cell_type": "code",
   "execution_count": 18,
   "metadata": {},
   "outputs": [],
   "source": [
    "import pprint"
   ]
  },
  {
   "cell_type": "code",
   "execution_count": 17,
   "metadata": {},
   "outputs": [
    {
     "ename": "NameError",
     "evalue": "name 'pprint' is not defined",
     "output_type": "error",
     "traceback": [
      "\u001b[0;31m---------------------------------------------------------------------------\u001b[0m",
      "\u001b[0;31mNameError\u001b[0m                                 Traceback (most recent call last)",
      "Cell \u001b[0;32mIn[17], line 2\u001b[0m\n\u001b[1;32m      1\u001b[0m test_all \u001b[39m=\u001b[39m [p \u001b[39mfor\u001b[39;00m p \u001b[39min\u001b[39;00m test]\n\u001b[0;32m----> 2\u001b[0m pprint\u001b[39m.\u001b[39mpprint(\u001b[39mvars\u001b[39m(test_all[\u001b[39m0\u001b[39m]))\n",
      "\u001b[0;31mNameError\u001b[0m: name 'pprint' is not defined"
     ]
    }
   ],
   "source": [
    "test_all = [p for p in test]\n",
    "pprint.pprint(vars(test_all[0]))"
   ]
  },
  {
   "cell_type": "code",
   "execution_count": 20,
   "metadata": {},
   "outputs": [
    {
     "data": {
      "text/plain": [
       "generator"
      ]
     },
     "execution_count": 20,
     "metadata": {},
     "output_type": "execute_result"
    }
   ],
   "source": [
    "type(test)"
   ]
  },
  {
   "cell_type": "code",
   "execution_count": 31,
   "metadata": {},
   "outputs": [],
   "source": [
    "test_df = []\n",
    "for post in test:\n",
    "    test_df.append({'created_utc': post.created_utc,\n",
    "                    'score': post.score,\n",
    "                    'num_comments': post.num_comments,\n",
    "                    'title': post.title})\n",
    "\n"
   ]
  },
  {
   "cell_type": "code",
   "execution_count": 32,
   "metadata": {},
   "outputs": [
    {
     "data": {
      "text/html": [
       "<div>\n",
       "<style scoped>\n",
       "    .dataframe tbody tr th:only-of-type {\n",
       "        vertical-align: middle;\n",
       "    }\n",
       "\n",
       "    .dataframe tbody tr th {\n",
       "        vertical-align: top;\n",
       "    }\n",
       "\n",
       "    .dataframe thead th {\n",
       "        text-align: right;\n",
       "    }\n",
       "</style>\n",
       "<table border=\"1\" class=\"dataframe\">\n",
       "  <thead>\n",
       "    <tr style=\"text-align: right;\">\n",
       "      <th></th>\n",
       "      <th>created_utc</th>\n",
       "      <th>score</th>\n",
       "      <th>num_comments</th>\n",
       "      <th>title</th>\n",
       "    </tr>\n",
       "  </thead>\n",
       "  <tbody>\n",
       "    <tr>\n",
       "      <th>0</th>\n",
       "      <td>2022-12-11 09:21:09</td>\n",
       "      <td>1</td>\n",
       "      <td>0</td>\n",
       "      <td>VIDEO: Cam Thomas career high boosts Brooklyn ...</td>\n",
       "    </tr>\n",
       "    <tr>\n",
       "      <th>1</th>\n",
       "      <td>2022-12-11 09:20:44</td>\n",
       "      <td>1</td>\n",
       "      <td>0</td>\n",
       "      <td>Is this top 10 valid.</td>\n",
       "    </tr>\n",
       "    <tr>\n",
       "      <th>2</th>\n",
       "      <td>2022-12-11 09:17:21</td>\n",
       "      <td>1</td>\n",
       "      <td>0</td>\n",
       "      <td>If the Chicago Bulls do decide to blow it up, ...</td>\n",
       "    </tr>\n",
       "    <tr>\n",
       "      <th>3</th>\n",
       "      <td>2022-12-11 09:06:59</td>\n",
       "      <td>20</td>\n",
       "      <td>5</td>\n",
       "      <td>NBA Finals intros were so great in the early 2...</td>\n",
       "    </tr>\n",
       "    <tr>\n",
       "      <th>4</th>\n",
       "      <td>2022-12-11 08:59:35</td>\n",
       "      <td>32</td>\n",
       "      <td>3</td>\n",
       "      <td>[deleted by user]</td>\n",
       "    </tr>\n",
       "  </tbody>\n",
       "</table>\n",
       "</div>"
      ],
      "text/plain": [
       "          created_utc  score  num_comments  \\\n",
       "0 2022-12-11 09:21:09      1             0   \n",
       "1 2022-12-11 09:20:44      1             0   \n",
       "2 2022-12-11 09:17:21      1             0   \n",
       "3 2022-12-11 09:06:59     20             5   \n",
       "4 2022-12-11 08:59:35     32             3   \n",
       "\n",
       "                                               title  \n",
       "0  VIDEO: Cam Thomas career high boosts Brooklyn ...  \n",
       "1                              Is this top 10 valid.  \n",
       "2  If the Chicago Bulls do decide to blow it up, ...  \n",
       "3  NBA Finals intros were so great in the early 2...  \n",
       "4                                  [deleted by user]  "
      ]
     },
     "execution_count": 32,
     "metadata": {},
     "output_type": "execute_result"
    }
   ],
   "source": [
    "test_df_actual = pd.DataFrame(test_df)\n",
    "test_df_actual['created_utc'] = pd.to_datetime(test_df_actual['created_utc'],unit='s')\n",
    "test_df_actual.head()"
   ]
  },
  {
   "cell_type": "code",
   "execution_count": 62,
   "metadata": {},
   "outputs": [],
   "source": [
    "bin_vec = np.linspace(0,2000,10)\n",
    "bin_list = bin_vec.tolist()"
   ]
  },
  {
   "cell_type": "code",
   "execution_count": 63,
   "metadata": {},
   "outputs": [
    {
     "data": {
      "text/plain": [
       "<AxesSubplot: >"
      ]
     },
     "execution_count": 63,
     "metadata": {},
     "output_type": "execute_result"
    },
    {
     "data": {
      "image/png": "[encoded data removed]",
      "text/plain": [
       "<Figure size 1200x800 with 1 Axes>"
      ]
     },
     "metadata": {},
     "output_type": "display_data"
    }
   ],
   "source": [
    "test_df_actual['score'].hist(bins=bin_list,\n",
    "                             grid=False,\n",
    "                             figsize=(12,8))"
   ]
  },
  {
   "cell_type": "markdown",
   "metadata": {},
   "source": [
    "Let's try prototyping the code here: https://towardsdatascience.com/how-to-use-the-reddit-api-in-python-5e05ddfd1e5c"
   ]
  },
  {
   "cell_type": "code",
   "execution_count": 24,
   "metadata": {},
   "outputs": [],
   "source": [
    "import requests"
   ]
  },
  {
   "cell_type": "code",
   "execution_count": 25,
   "metadata": {},
   "outputs": [],
   "source": [
    "import json #For retrieving password details\n",
    "\n",
    "with open('credentials.json') as f:\n",
    "    data = json.load(f)\n",
    "    reddit_user = data['reddit_user']\n",
    "    reddit_pass = data['reddit_password']"
   ]
  },
  {
   "cell_type": "code",
   "execution_count": 26,
   "metadata": {},
   "outputs": [],
   "source": [
    "#Let's manually get an Oauth token from reddit\n",
    "\n",
    "\n",
    "auth = requests.auth.HTTPBasicAuth(client_script_id,secret_key)\n",
    "\n",
    "userdata = {'grant_type': 'password',\n",
    "        'username': reddit_user,\n",
    "        'password': reddit_pass}\n",
    "\n",
    "\n",
    "\n",
    "\n"
   ]
  },
  {
   "cell_type": "code",
   "execution_count": 27,
   "metadata": {},
   "outputs": [],
   "source": [
    "def request_token():\n",
    "    #Setup header info for reddit submission page.\n",
    "    #We need to add a description\n",
    "    headers = {'User-Agent': 'NBAParser'}\n",
    "    #Send request for OAuth token\n",
    "    reddit_response = requests.post('https://www.reddit.com/api/v1/access_token',\n",
    "                        auth = auth, data=userdata, headers=headers)\n",
    "\n",
    "    #Convert response to json and grab access_token\n",
    "    access_token = reddit_response.json()['access_token']\n",
    "\n",
    "    #Join header dictionary, so not only do you have the name of your \"script\", you also have the temporary authorization token\n",
    "    headers = {**headers, **{'Authorization': f\"bearer {access_token}\"}}\n",
    "\n",
    "    return headers\n"
   ]
  },
  {
   "cell_type": "markdown",
   "metadata": {},
   "source": [
    "Given we have a method of requesting data from reddit, let's write a function to parse a response from reddit. We don't need all the attributes of the response we've requested (E.g. all details of a given post), so we'll premptively filter this.\n",
    "\n",
    "The total list of keys can be found here: https://www.jcchouinard.com/documentation-on-reddit-apis-json/"
   ]
  },
  {
   "cell_type": "code",
   "execution_count": 47,
   "metadata": {},
   "outputs": [],
   "source": [
    "def df_from_response(response):\n",
    "    #Initialize dataframe which we'll append onto existing one\n",
    "    df = pd.DataFrame()\n",
    "\n",
    "    #Loop through each post in response and append to df\n",
    "    for post in response.json()['data']['children']:\n",
    "        row = pd.DataFrame.from_dict({\n",
    "            'title': post['data']['title'],\n",
    "            'upvote_ratio': post['data']['upvote_ratio'],\n",
    "            'ups': post['data']['ups'],\n",
    "            'downs': post['data']['downs'],\n",
    "            'score': post['data']['score'],\n",
    "            'id': post['data']['id'],\n",
    "            'kind': post['kind']\n",
    "        })\n",
    "        df = pd.concat([df,row], ignore_index=True)\n",
    "\n",
    "    return df"
   ]
  },
  {
   "cell_type": "code",
   "execution_count": 49,
   "metadata": {},
   "outputs": [],
   "source": [
    "def df_from_response(response):\n",
    "    df = pd.json_normalize(response.json()['data']['children'])\n",
    "    #Filter for specific columns\n",
    "    df = df[['kind','data.title','data.upvote_ratio','data.score','data.id']]\n",
    "    #Rename columns\n",
    "    df.columns = df.columns.str.replace('data.','')\n",
    "\n",
    "    return df\n",
    "\n",
    "    "
   ]
  },
  {
   "cell_type": "code",
   "execution_count": 142,
   "metadata": {},
   "outputs": [],
   "source": [
    "#Setting up df and defining requests.get params as seen in the documentation here: \n",
    "#https://www.reddit.com/dev/api/, look under GET [/r/subreddit]/sort for \"top\" and \"controversial\"\n",
    "post_data = pd.DataFrame()\n",
    "params = {'limit': 100, 't': 'year'} #Inherent limit"
   ]
  },
  {
   "cell_type": "code",
   "execution_count": 29,
   "metadata": {},
   "outputs": [],
   "source": [
    "headers = request_token()"
   ]
  },
  {
   "cell_type": "code",
   "execution_count": 98,
   "metadata": {},
   "outputs": [],
   "source": [
    "response = requests.get(\"https://oauth.reddit.com/r/nba/top\",\n",
    "                    headers= headers,\n",
    "                    params = params)"
   ]
  },
  {
   "cell_type": "markdown",
   "metadata": {},
   "source": [
    "To-do list for self: Use PMAW to get a long list of ids from json request, and put them into a list and feed them into requests.get"
   ]
  },
  {
   "cell_type": "code",
   "execution_count": 50,
   "metadata": {},
   "outputs": [],
   "source": [
    "test_response = requests.get(\"https://oauth.reddit.com/r/nba/api/info\",\n",
    "                            headers = headers,\n",
    "                            params = {'id': ids_all[:20]})"
   ]
  },
  {
   "cell_type": "code",
   "execution_count": 48,
   "metadata": {},
   "outputs": [
    {
     "ename": "ValueError",
     "evalue": "If using all scalar values, you must pass an index",
     "output_type": "error",
     "traceback": [
      "\u001b[0;31m---------------------------------------------------------------------------\u001b[0m",
      "\u001b[0;31mValueError\u001b[0m                                Traceback (most recent call last)",
      "Cell \u001b[0;32mIn[48], line 1\u001b[0m\n\u001b[0;32m----> 1\u001b[0m df_temp \u001b[39m=\u001b[39m df_from_response(test_response)\n",
      "Cell \u001b[0;32mIn[47], line 7\u001b[0m, in \u001b[0;36mdf_from_response\u001b[0;34m(response)\u001b[0m\n\u001b[1;32m      5\u001b[0m \u001b[39m#Loop through each post in response and append to df\u001b[39;00m\n\u001b[1;32m      6\u001b[0m \u001b[39mfor\u001b[39;00m post \u001b[39min\u001b[39;00m response\u001b[39m.\u001b[39mjson()[\u001b[39m'\u001b[39m\u001b[39mdata\u001b[39m\u001b[39m'\u001b[39m][\u001b[39m'\u001b[39m\u001b[39mchildren\u001b[39m\u001b[39m'\u001b[39m]:\n\u001b[0;32m----> 7\u001b[0m     row \u001b[39m=\u001b[39m pd\u001b[39m.\u001b[39;49mDataFrame\u001b[39m.\u001b[39;49mfrom_dict({\n\u001b[1;32m      8\u001b[0m         \u001b[39m'\u001b[39;49m\u001b[39mtitle\u001b[39;49m\u001b[39m'\u001b[39;49m: post[\u001b[39m'\u001b[39;49m\u001b[39mdata\u001b[39;49m\u001b[39m'\u001b[39;49m][\u001b[39m'\u001b[39;49m\u001b[39mtitle\u001b[39;49m\u001b[39m'\u001b[39;49m],\n\u001b[1;32m      9\u001b[0m         \u001b[39m'\u001b[39;49m\u001b[39mupvote_ratio\u001b[39;49m\u001b[39m'\u001b[39;49m: post[\u001b[39m'\u001b[39;49m\u001b[39mdata\u001b[39;49m\u001b[39m'\u001b[39;49m][\u001b[39m'\u001b[39;49m\u001b[39mupvote_ratio\u001b[39;49m\u001b[39m'\u001b[39;49m],\n\u001b[1;32m     10\u001b[0m         \u001b[39m'\u001b[39;49m\u001b[39mups\u001b[39;49m\u001b[39m'\u001b[39;49m: post[\u001b[39m'\u001b[39;49m\u001b[39mdata\u001b[39;49m\u001b[39m'\u001b[39;49m][\u001b[39m'\u001b[39;49m\u001b[39mups\u001b[39;49m\u001b[39m'\u001b[39;49m],\n\u001b[1;32m     11\u001b[0m         \u001b[39m'\u001b[39;49m\u001b[39mdowns\u001b[39;49m\u001b[39m'\u001b[39;49m: post[\u001b[39m'\u001b[39;49m\u001b[39mdata\u001b[39;49m\u001b[39m'\u001b[39;49m][\u001b[39m'\u001b[39;49m\u001b[39mdowns\u001b[39;49m\u001b[39m'\u001b[39;49m],\n\u001b[1;32m     12\u001b[0m         \u001b[39m'\u001b[39;49m\u001b[39mscore\u001b[39;49m\u001b[39m'\u001b[39;49m: post[\u001b[39m'\u001b[39;49m\u001b[39mdata\u001b[39;49m\u001b[39m'\u001b[39;49m][\u001b[39m'\u001b[39;49m\u001b[39mscore\u001b[39;49m\u001b[39m'\u001b[39;49m],\n\u001b[1;32m     13\u001b[0m         \u001b[39m'\u001b[39;49m\u001b[39mid\u001b[39;49m\u001b[39m'\u001b[39;49m: post[\u001b[39m'\u001b[39;49m\u001b[39mdata\u001b[39;49m\u001b[39m'\u001b[39;49m][\u001b[39m'\u001b[39;49m\u001b[39mid\u001b[39;49m\u001b[39m'\u001b[39;49m],\n\u001b[1;32m     14\u001b[0m         \u001b[39m'\u001b[39;49m\u001b[39mkind\u001b[39;49m\u001b[39m'\u001b[39;49m: post[\u001b[39m'\u001b[39;49m\u001b[39mkind\u001b[39;49m\u001b[39m'\u001b[39;49m]\n\u001b[1;32m     15\u001b[0m     })\n\u001b[1;32m     16\u001b[0m     df \u001b[39m=\u001b[39m pd\u001b[39m.\u001b[39mconcat([df,row], ignore_index\u001b[39m=\u001b[39m\u001b[39mTrue\u001b[39;00m)\n\u001b[1;32m     18\u001b[0m \u001b[39mreturn\u001b[39;00m df\n",
      "File \u001b[0;32m/opt/homebrew/Caskroom/miniconda/base/envs/hackathon/lib/python3.10/site-packages/pandas/core/frame.py:1763\u001b[0m, in \u001b[0;36mDataFrame.from_dict\u001b[0;34m(cls, data, orient, dtype, columns)\u001b[0m\n\u001b[1;32m   1757\u001b[0m     \u001b[39mraise\u001b[39;00m \u001b[39mValueError\u001b[39;00m(\n\u001b[1;32m   1758\u001b[0m         \u001b[39mf\u001b[39m\u001b[39m\"\u001b[39m\u001b[39mExpected \u001b[39m\u001b[39m'\u001b[39m\u001b[39mindex\u001b[39m\u001b[39m'\u001b[39m\u001b[39m, \u001b[39m\u001b[39m'\u001b[39m\u001b[39mcolumns\u001b[39m\u001b[39m'\u001b[39m\u001b[39m or \u001b[39m\u001b[39m'\u001b[39m\u001b[39mtight\u001b[39m\u001b[39m'\u001b[39m\u001b[39m for orient parameter. \u001b[39m\u001b[39m\"\u001b[39m\n\u001b[1;32m   1759\u001b[0m         \u001b[39mf\u001b[39m\u001b[39m\"\u001b[39m\u001b[39mGot \u001b[39m\u001b[39m'\u001b[39m\u001b[39m{\u001b[39;00morient\u001b[39m}\u001b[39;00m\u001b[39m'\u001b[39m\u001b[39m instead\u001b[39m\u001b[39m\"\u001b[39m\n\u001b[1;32m   1760\u001b[0m     )\n\u001b[1;32m   1762\u001b[0m \u001b[39mif\u001b[39;00m orient \u001b[39m!=\u001b[39m \u001b[39m\"\u001b[39m\u001b[39mtight\u001b[39m\u001b[39m\"\u001b[39m:\n\u001b[0;32m-> 1763\u001b[0m     \u001b[39mreturn\u001b[39;00m \u001b[39mcls\u001b[39;49m(data, index\u001b[39m=\u001b[39;49mindex, columns\u001b[39m=\u001b[39;49mcolumns, dtype\u001b[39m=\u001b[39;49mdtype)\n\u001b[1;32m   1764\u001b[0m \u001b[39melse\u001b[39;00m:\n\u001b[1;32m   1765\u001b[0m     realdata \u001b[39m=\u001b[39m data[\u001b[39m\"\u001b[39m\u001b[39mdata\u001b[39m\u001b[39m\"\u001b[39m]\n",
      "File \u001b[0;32m/opt/homebrew/Caskroom/miniconda/base/envs/hackathon/lib/python3.10/site-packages/pandas/core/frame.py:663\u001b[0m, in \u001b[0;36mDataFrame.__init__\u001b[0;34m(self, data, index, columns, dtype, copy)\u001b[0m\n\u001b[1;32m    657\u001b[0m     mgr \u001b[39m=\u001b[39m \u001b[39mself\u001b[39m\u001b[39m.\u001b[39m_init_mgr(\n\u001b[1;32m    658\u001b[0m         data, axes\u001b[39m=\u001b[39m{\u001b[39m\"\u001b[39m\u001b[39mindex\u001b[39m\u001b[39m\"\u001b[39m: index, \u001b[39m\"\u001b[39m\u001b[39mcolumns\u001b[39m\u001b[39m\"\u001b[39m: columns}, dtype\u001b[39m=\u001b[39mdtype, copy\u001b[39m=\u001b[39mcopy\n\u001b[1;32m    659\u001b[0m     )\n\u001b[1;32m    661\u001b[0m \u001b[39melif\u001b[39;00m \u001b[39misinstance\u001b[39m(data, \u001b[39mdict\u001b[39m):\n\u001b[1;32m    662\u001b[0m     \u001b[39m# GH#38939 de facto copy defaults to False only in non-dict cases\u001b[39;00m\n\u001b[0;32m--> 663\u001b[0m     mgr \u001b[39m=\u001b[39m dict_to_mgr(data, index, columns, dtype\u001b[39m=\u001b[39;49mdtype, copy\u001b[39m=\u001b[39;49mcopy, typ\u001b[39m=\u001b[39;49mmanager)\n\u001b[1;32m    664\u001b[0m \u001b[39melif\u001b[39;00m \u001b[39misinstance\u001b[39m(data, ma\u001b[39m.\u001b[39mMaskedArray):\n\u001b[1;32m    665\u001b[0m     \u001b[39mimport\u001b[39;00m \u001b[39mnumpy\u001b[39;00m\u001b[39m.\u001b[39;00m\u001b[39mma\u001b[39;00m\u001b[39m.\u001b[39;00m\u001b[39mmrecords\u001b[39;00m \u001b[39mas\u001b[39;00m \u001b[39mmrecords\u001b[39;00m\n",
      "File \u001b[0;32m/opt/homebrew/Caskroom/miniconda/base/envs/hackathon/lib/python3.10/site-packages/pandas/core/internals/construction.py:493\u001b[0m, in \u001b[0;36mdict_to_mgr\u001b[0;34m(data, index, columns, dtype, typ, copy)\u001b[0m\n\u001b[1;32m    489\u001b[0m     \u001b[39melse\u001b[39;00m:\n\u001b[1;32m    490\u001b[0m         \u001b[39m# dtype check to exclude e.g. range objects, scalars\u001b[39;00m\n\u001b[1;32m    491\u001b[0m         arrays \u001b[39m=\u001b[39m [x\u001b[39m.\u001b[39mcopy() \u001b[39mif\u001b[39;00m \u001b[39mhasattr\u001b[39m(x, \u001b[39m\"\u001b[39m\u001b[39mdtype\u001b[39m\u001b[39m\"\u001b[39m) \u001b[39melse\u001b[39;00m x \u001b[39mfor\u001b[39;00m x \u001b[39min\u001b[39;00m arrays]\n\u001b[0;32m--> 493\u001b[0m \u001b[39mreturn\u001b[39;00m arrays_to_mgr(arrays, columns, index, dtype\u001b[39m=\u001b[39;49mdtype, typ\u001b[39m=\u001b[39;49mtyp, consolidate\u001b[39m=\u001b[39;49mcopy)\n",
      "File \u001b[0;32m/opt/homebrew/Caskroom/miniconda/base/envs/hackathon/lib/python3.10/site-packages/pandas/core/internals/construction.py:118\u001b[0m, in \u001b[0;36marrays_to_mgr\u001b[0;34m(arrays, columns, index, dtype, verify_integrity, typ, consolidate)\u001b[0m\n\u001b[1;32m    115\u001b[0m \u001b[39mif\u001b[39;00m verify_integrity:\n\u001b[1;32m    116\u001b[0m     \u001b[39m# figure out the index, if necessary\u001b[39;00m\n\u001b[1;32m    117\u001b[0m     \u001b[39mif\u001b[39;00m index \u001b[39mis\u001b[39;00m \u001b[39mNone\u001b[39;00m:\n\u001b[0;32m--> 118\u001b[0m         index \u001b[39m=\u001b[39m _extract_index(arrays)\n\u001b[1;32m    119\u001b[0m     \u001b[39melse\u001b[39;00m:\n\u001b[1;32m    120\u001b[0m         index \u001b[39m=\u001b[39m ensure_index(index)\n",
      "File \u001b[0;32m/opt/homebrew/Caskroom/miniconda/base/envs/hackathon/lib/python3.10/site-packages/pandas/core/internals/construction.py:656\u001b[0m, in \u001b[0;36m_extract_index\u001b[0;34m(data)\u001b[0m\n\u001b[1;32m    653\u001b[0m         \u001b[39mraise\u001b[39;00m \u001b[39mValueError\u001b[39;00m(\u001b[39m\"\u001b[39m\u001b[39mPer-column arrays must each be 1-dimensional\u001b[39m\u001b[39m\"\u001b[39m)\n\u001b[1;32m    655\u001b[0m \u001b[39mif\u001b[39;00m \u001b[39mnot\u001b[39;00m indexes \u001b[39mand\u001b[39;00m \u001b[39mnot\u001b[39;00m raw_lengths:\n\u001b[0;32m--> 656\u001b[0m     \u001b[39mraise\u001b[39;00m \u001b[39mValueError\u001b[39;00m(\u001b[39m\"\u001b[39m\u001b[39mIf using all scalar values, you must pass an index\u001b[39m\u001b[39m\"\u001b[39m)\n\u001b[1;32m    658\u001b[0m \u001b[39melif\u001b[39;00m have_series:\n\u001b[1;32m    659\u001b[0m     index \u001b[39m=\u001b[39m union_indexes(indexes)\n",
      "\u001b[0;31mValueError\u001b[0m: If using all scalar values, you must pass an index"
     ]
    }
   ],
   "source": [
    "df_temp = df_from_response(test_response)"
   ]
  },
  {
   "cell_type": "code",
   "execution_count": 44,
   "metadata": {},
   "outputs": [
    {
     "data": {
      "text/html": [
       "<div>\n",
       "<style scoped>\n",
       "    .dataframe tbody tr th:only-of-type {\n",
       "        vertical-align: middle;\n",
       "    }\n",
       "\n",
       "    .dataframe tbody tr th {\n",
       "        vertical-align: top;\n",
       "    }\n",
       "\n",
       "    .dataframe thead th {\n",
       "        text-align: right;\n",
       "    }\n",
       "</style>\n",
       "<table border=\"1\" class=\"dataframe\">\n",
       "  <thead>\n",
       "    <tr style=\"text-align: right;\">\n",
       "      <th></th>\n",
       "      <th>kind</th>\n",
       "      <th>title</th>\n",
       "      <th>upvote_ratio</th>\n",
       "      <th>score</th>\n",
       "      <th>id</th>\n",
       "    </tr>\n",
       "  </thead>\n",
       "  <tbody>\n",
       "    <tr>\n",
       "      <th>0</th>\n",
       "      <td>t3</td>\n",
       "      <td>Lonzo inbounds to Zion for the alley oop in tr...</td>\n",
       "      <td>1.0</td>\n",
       "      <td>1</td>\n",
       "      <td>dcejjg</td>\n",
       "    </tr>\n",
       "  </tbody>\n",
       "</table>\n",
       "</div>"
      ],
      "text/plain": [
       "  kind                                              title  upvote_ratio  \\\n",
       "0   t3  Lonzo inbounds to Zion for the alley oop in tr...           1.0   \n",
       "\n",
       "   score      id  \n",
       "0      1  dcejjg  "
      ]
     },
     "execution_count": 44,
     "metadata": {},
     "output_type": "execute_result"
    }
   ],
   "source": [
    "df_temp.head()"
   ]
  },
  {
   "cell_type": "code",
   "execution_count": 33,
   "metadata": {},
   "outputs": [
    {
     "data": {
      "text/plain": [
       "[{'kind': 't3',\n",
       "  'data': {'approved_at_utc': None,\n",
       "   'subreddit': 'nba',\n",
       "   'selftext': 'The Knicks give up Wilson chandler, Danillo Gallinari, Raymond Felton and a 1st to the jazz \\n\\nJazz give up\\n\\nDeron Williams \\n\\nAl Jefferson \\n\\nHow much better or worse would the Knicks be with Williams and Jefferson with Amare then just Melo and Amare.',\n",
       "   'author_fullname': 't2_41kiknzm',\n",
       "   'saved': False,\n",
       "   'mod_reason_title': None,\n",
       "   'gilded': 0,\n",
       "   'clicked': False,\n",
       "   'title': 'How much different would the east be if the Knicks traded for Deron Williams instead of Melo?',\n",
       "   'link_flair_richtext': [],\n",
       "   'subreddit_name_prefixed': 'r/nba',\n",
       "   'hidden': False,\n",
       "   'pwls': 6,\n",
       "   'link_flair_css_class': None,\n",
       "   'downs': 0,\n",
       "   'thumbnail_height': None,\n",
       "   'top_awarded_type': None,\n",
       "   'hide_score': False,\n",
       "   'name': 't3_dcdshn',\n",
       "   'quarantine': False,\n",
       "   'link_flair_text_color': 'dark',\n",
       "   'upvote_ratio': 0.67,\n",
       "   'author_flair_background_color': '#edeff1',\n",
       "   'subreddit_type': 'public',\n",
       "   'ups': 3,\n",
       "   'total_awards_received': 0,\n",
       "   'media_embed': {},\n",
       "   'thumbnail_width': None,\n",
       "   'author_flair_template_id': 'cc9d196c-3feb-11e8-8657-0ec490cde63a',\n",
       "   'is_original_content': False,\n",
       "   'user_reports': [],\n",
       "   'secure_media': None,\n",
       "   'is_reddit_media_domain': False,\n",
       "   'is_meta': False,\n",
       "   'category': None,\n",
       "   'secure_media_embed': {},\n",
       "   'link_flair_text': None,\n",
       "   'can_mod_post': False,\n",
       "   'score': 3,\n",
       "   'approved_by': None,\n",
       "   'is_created_from_ads_ui': False,\n",
       "   'author_premium': False,\n",
       "   'thumbnail': 'self',\n",
       "   'edited': False,\n",
       "   'author_flair_css_class': 'Lakers3',\n",
       "   'author_flair_richtext': [{'a': ':lal-3:',\n",
       "     'e': 'emoji',\n",
       "     'u': 'https://emoji.redditmedia.com/ti8n90bss4r81_t5_2qo4s/lal-3'},\n",
       "    {'e': 'text', 't': ' Lakers'}],\n",
       "   'gildings': {},\n",
       "   'content_categories': None,\n",
       "   'is_self': True,\n",
       "   'mod_note': None,\n",
       "   'created': 1570038927.0,\n",
       "   'link_flair_type': 'text',\n",
       "   'wls': 6,\n",
       "   'removed_by_category': None,\n",
       "   'banned_by': None,\n",
       "   'author_flair_type': 'richtext',\n",
       "   'domain': 'self.nba',\n",
       "   'allow_live_comments': False,\n",
       "   'selftext_html': '&lt;!-- SC_OFF --&gt;&lt;div class=\"md\"&gt;&lt;p&gt;The Knicks give up Wilson chandler, Danillo Gallinari, Raymond Felton and a 1st to the jazz &lt;/p&gt;\\n\\n&lt;p&gt;Jazz give up&lt;/p&gt;\\n\\n&lt;p&gt;Deron Williams &lt;/p&gt;\\n\\n&lt;p&gt;Al Jefferson &lt;/p&gt;\\n\\n&lt;p&gt;How much better or worse would the Knicks be with Williams and Jefferson with Amare then just Melo and Amare.&lt;/p&gt;\\n&lt;/div&gt;&lt;!-- SC_ON --&gt;',\n",
       "   'likes': None,\n",
       "   'suggested_sort': None,\n",
       "   'banned_at_utc': None,\n",
       "   'view_count': None,\n",
       "   'archived': True,\n",
       "   'no_follow': False,\n",
       "   'is_crosspostable': True,\n",
       "   'pinned': False,\n",
       "   'over_18': False,\n",
       "   'all_awardings': [],\n",
       "   'awarders': [],\n",
       "   'media_only': False,\n",
       "   'can_gild': True,\n",
       "   'spoiler': False,\n",
       "   'locked': False,\n",
       "   'author_flair_text': ':lal-3: Lakers',\n",
       "   'treatment_tags': [],\n",
       "   'visited': False,\n",
       "   'removed_by': None,\n",
       "   'num_reports': None,\n",
       "   'distinguished': None,\n",
       "   'subreddit_id': 't5_2qo4s',\n",
       "   'author_is_blocked': False,\n",
       "   'mod_reason_by': None,\n",
       "   'removal_reason': None,\n",
       "   'link_flair_background_color': '',\n",
       "   'id': 'dcdshn',\n",
       "   'is_robot_indexable': True,\n",
       "   'report_reasons': None,\n",
       "   'author': 'Callme_MrClean',\n",
       "   'discussion_type': None,\n",
       "   'num_comments': 11,\n",
       "   'send_replies': True,\n",
       "   'whitelist_status': 'all_ads',\n",
       "   'contest_mode': False,\n",
       "   'mod_reports': [],\n",
       "   'author_patreon_flair': False,\n",
       "   'author_flair_text_color': 'dark',\n",
       "   'permalink': '/r/nba/comments/dcdshn/how_much_different_would_the_east_be_if_the/',\n",
       "   'parent_whitelist_status': 'all_ads',\n",
       "   'stickied': False,\n",
       "   'url': 'https://www.reddit.com/r/nba/comments/dcdshn/how_much_different_would_the_east_be_if_the/',\n",
       "   'subreddit_subscribers': 6548281,\n",
       "   'created_utc': 1570038927.0,\n",
       "   'num_crossposts': 0,\n",
       "   'media': None,\n",
       "   'is_video': False}}]"
      ]
     },
     "execution_count": 33,
     "metadata": {},
     "output_type": "execute_result"
    }
   ],
   "source": [
    "test_response.json()['data']['children']"
   ]
  },
  {
   "cell_type": "code",
   "execution_count": null,
   "metadata": {},
   "outputs": [],
   "source": [
    "headers = request_token()"
   ]
  },
  {
   "cell_type": "code",
   "execution_count": 158,
   "metadata": {},
   "outputs": [
    {
     "name": "stderr",
     "output_type": "stream",
     "text": [
      "C:\\Users\\Albert\\AppData\\Local\\Temp\\ipykernel_57524\\2135250457.py:6: FutureWarning: The default value of regex will change from True to False in a future version.\n",
      "  df.columns = df.columns.str.replace('data.','')\n"
     ]
    },
    {
     "ename": "KeyboardInterrupt",
     "evalue": "",
     "output_type": "error",
     "traceback": [
      "\u001b[1;31m---------------------------------------------------------------------------\u001b[0m",
      "\u001b[1;31mKeyboardInterrupt\u001b[0m                         Traceback (most recent call last)",
      "Cell \u001b[1;32mIn[158], line 5\u001b[0m\n\u001b[0;32m      1\u001b[0m headers \u001b[39m=\u001b[39m request_token()\n\u001b[0;32m      3\u001b[0m \u001b[39mfor\u001b[39;00m i \u001b[39min\u001b[39;00m \u001b[39mrange\u001b[39m(\u001b[39m40\u001b[39m):\n\u001b[1;32m----> 5\u001b[0m     response \u001b[39m=\u001b[39m requests\u001b[39m.\u001b[39;49mget(\u001b[39m\"\u001b[39;49m\u001b[39mhttps://oauth.reddit.com/r/nba/top\u001b[39;49m\u001b[39m\"\u001b[39;49m,\n\u001b[0;32m      6\u001b[0m                     headers\u001b[39m=\u001b[39;49mheaders,\n\u001b[0;32m      7\u001b[0m                     params \u001b[39m=\u001b[39;49m params)\n\u001b[0;32m      9\u001b[0m     \u001b[39m#Get new dataframe from response from function\u001b[39;00m\n\u001b[0;32m     10\u001b[0m     df_temp \u001b[39m=\u001b[39m df_from_response(response)\n",
      "File \u001b[1;32mc:\\Users\\Albert\\anaconda3\\envs\\traffic_gat_test\\lib\\site-packages\\requests\\api.py:73\u001b[0m, in \u001b[0;36mget\u001b[1;34m(url, params, **kwargs)\u001b[0m\n\u001b[0;32m     62\u001b[0m \u001b[39mdef\u001b[39;00m \u001b[39mget\u001b[39m(url, params\u001b[39m=\u001b[39m\u001b[39mNone\u001b[39;00m, \u001b[39m*\u001b[39m\u001b[39m*\u001b[39mkwargs):\n\u001b[0;32m     63\u001b[0m     \u001b[39mr\u001b[39m\u001b[39m\"\"\"Sends a GET request.\u001b[39;00m\n\u001b[0;32m     64\u001b[0m \n\u001b[0;32m     65\u001b[0m \u001b[39m    :param url: URL for the new :class:`Request` object.\u001b[39;00m\n\u001b[1;32m   (...)\u001b[0m\n\u001b[0;32m     70\u001b[0m \u001b[39m    :rtype: requests.Response\u001b[39;00m\n\u001b[0;32m     71\u001b[0m \u001b[39m    \"\"\"\u001b[39;00m\n\u001b[1;32m---> 73\u001b[0m     \u001b[39mreturn\u001b[39;00m request(\u001b[39m\"\u001b[39m\u001b[39mget\u001b[39m\u001b[39m\"\u001b[39m, url, params\u001b[39m=\u001b[39mparams, \u001b[39m*\u001b[39m\u001b[39m*\u001b[39mkwargs)\n",
      "File \u001b[1;32mc:\\Users\\Albert\\anaconda3\\envs\\traffic_gat_test\\lib\\site-packages\\requests\\api.py:59\u001b[0m, in \u001b[0;36mrequest\u001b[1;34m(method, url, **kwargs)\u001b[0m\n\u001b[0;32m     55\u001b[0m \u001b[39m# By using the 'with' statement we are sure the session is closed, thus we\u001b[39;00m\n\u001b[0;32m     56\u001b[0m \u001b[39m# avoid leaving sockets open which can trigger a ResourceWarning in some\u001b[39;00m\n\u001b[0;32m     57\u001b[0m \u001b[39m# cases, and look like a memory leak in others.\u001b[39;00m\n\u001b[0;32m     58\u001b[0m \u001b[39mwith\u001b[39;00m sessions\u001b[39m.\u001b[39mSession() \u001b[39mas\u001b[39;00m session:\n\u001b[1;32m---> 59\u001b[0m     \u001b[39mreturn\u001b[39;00m session\u001b[39m.\u001b[39mrequest(method\u001b[39m=\u001b[39mmethod, url\u001b[39m=\u001b[39murl, \u001b[39m*\u001b[39m\u001b[39m*\u001b[39mkwargs)\n",
      "File \u001b[1;32mc:\\Users\\Albert\\anaconda3\\envs\\traffic_gat_test\\lib\\site-packages\\requests\\sessions.py:587\u001b[0m, in \u001b[0;36mSession.request\u001b[1;34m(self, method, url, params, data, headers, cookies, files, auth, timeout, allow_redirects, proxies, hooks, stream, verify, cert, json)\u001b[0m\n\u001b[0;32m    582\u001b[0m send_kwargs \u001b[39m=\u001b[39m {\n\u001b[0;32m    583\u001b[0m     \u001b[39m\"\u001b[39m\u001b[39mtimeout\u001b[39m\u001b[39m\"\u001b[39m: timeout,\n\u001b[0;32m    584\u001b[0m     \u001b[39m\"\u001b[39m\u001b[39mallow_redirects\u001b[39m\u001b[39m\"\u001b[39m: allow_redirects,\n\u001b[0;32m    585\u001b[0m }\n\u001b[0;32m    586\u001b[0m send_kwargs\u001b[39m.\u001b[39mupdate(settings)\n\u001b[1;32m--> 587\u001b[0m resp \u001b[39m=\u001b[39m \u001b[39mself\u001b[39m\u001b[39m.\u001b[39msend(prep, \u001b[39m*\u001b[39m\u001b[39m*\u001b[39msend_kwargs)\n\u001b[0;32m    589\u001b[0m \u001b[39mreturn\u001b[39;00m resp\n",
      "File \u001b[1;32mc:\\Users\\Albert\\anaconda3\\envs\\traffic_gat_test\\lib\\site-packages\\requests\\sessions.py:701\u001b[0m, in \u001b[0;36mSession.send\u001b[1;34m(self, request, **kwargs)\u001b[0m\n\u001b[0;32m    698\u001b[0m start \u001b[39m=\u001b[39m preferred_clock()\n\u001b[0;32m    700\u001b[0m \u001b[39m# Send the request\u001b[39;00m\n\u001b[1;32m--> 701\u001b[0m r \u001b[39m=\u001b[39m adapter\u001b[39m.\u001b[39msend(request, \u001b[39m*\u001b[39m\u001b[39m*\u001b[39mkwargs)\n\u001b[0;32m    703\u001b[0m \u001b[39m# Total elapsed time of the request (approximately)\u001b[39;00m\n\u001b[0;32m    704\u001b[0m elapsed \u001b[39m=\u001b[39m preferred_clock() \u001b[39m-\u001b[39m start\n",
      "File \u001b[1;32mc:\\Users\\Albert\\anaconda3\\envs\\traffic_gat_test\\lib\\site-packages\\requests\\adapters.py:489\u001b[0m, in \u001b[0;36mHTTPAdapter.send\u001b[1;34m(self, request, stream, timeout, verify, cert, proxies)\u001b[0m\n\u001b[0;32m    487\u001b[0m \u001b[39mtry\u001b[39;00m:\n\u001b[0;32m    488\u001b[0m     \u001b[39mif\u001b[39;00m \u001b[39mnot\u001b[39;00m chunked:\n\u001b[1;32m--> 489\u001b[0m         resp \u001b[39m=\u001b[39m conn\u001b[39m.\u001b[39;49murlopen(\n\u001b[0;32m    490\u001b[0m             method\u001b[39m=\u001b[39;49mrequest\u001b[39m.\u001b[39;49mmethod,\n\u001b[0;32m    491\u001b[0m             url\u001b[39m=\u001b[39;49murl,\n\u001b[0;32m    492\u001b[0m             body\u001b[39m=\u001b[39;49mrequest\u001b[39m.\u001b[39;49mbody,\n\u001b[0;32m    493\u001b[0m             headers\u001b[39m=\u001b[39;49mrequest\u001b[39m.\u001b[39;49mheaders,\n\u001b[0;32m    494\u001b[0m             redirect\u001b[39m=\u001b[39;49m\u001b[39mFalse\u001b[39;49;00m,\n\u001b[0;32m    495\u001b[0m             assert_same_host\u001b[39m=\u001b[39;49m\u001b[39mFalse\u001b[39;49;00m,\n\u001b[0;32m    496\u001b[0m             preload_content\u001b[39m=\u001b[39;49m\u001b[39mFalse\u001b[39;49;00m,\n\u001b[0;32m    497\u001b[0m             decode_content\u001b[39m=\u001b[39;49m\u001b[39mFalse\u001b[39;49;00m,\n\u001b[0;32m    498\u001b[0m             retries\u001b[39m=\u001b[39;49m\u001b[39mself\u001b[39;49m\u001b[39m.\u001b[39;49mmax_retries,\n\u001b[0;32m    499\u001b[0m             timeout\u001b[39m=\u001b[39;49mtimeout,\n\u001b[0;32m    500\u001b[0m         )\n\u001b[0;32m    502\u001b[0m     \u001b[39m# Send the request.\u001b[39;00m\n\u001b[0;32m    503\u001b[0m     \u001b[39melse\u001b[39;00m:\n\u001b[0;32m    504\u001b[0m         \u001b[39mif\u001b[39;00m \u001b[39mhasattr\u001b[39m(conn, \u001b[39m\"\u001b[39m\u001b[39mproxy_pool\u001b[39m\u001b[39m\"\u001b[39m):\n",
      "File \u001b[1;32mc:\\Users\\Albert\\anaconda3\\envs\\traffic_gat_test\\lib\\site-packages\\urllib3\\connectionpool.py:703\u001b[0m, in \u001b[0;36mHTTPConnectionPool.urlopen\u001b[1;34m(self, method, url, body, headers, retries, redirect, assert_same_host, timeout, pool_timeout, release_conn, chunked, body_pos, **response_kw)\u001b[0m\n\u001b[0;32m    700\u001b[0m     \u001b[39mself\u001b[39m\u001b[39m.\u001b[39m_prepare_proxy(conn)\n\u001b[0;32m    702\u001b[0m \u001b[39m# Make the request on the httplib connection object.\u001b[39;00m\n\u001b[1;32m--> 703\u001b[0m httplib_response \u001b[39m=\u001b[39m \u001b[39mself\u001b[39;49m\u001b[39m.\u001b[39;49m_make_request(\n\u001b[0;32m    704\u001b[0m     conn,\n\u001b[0;32m    705\u001b[0m     method,\n\u001b[0;32m    706\u001b[0m     url,\n\u001b[0;32m    707\u001b[0m     timeout\u001b[39m=\u001b[39;49mtimeout_obj,\n\u001b[0;32m    708\u001b[0m     body\u001b[39m=\u001b[39;49mbody,\n\u001b[0;32m    709\u001b[0m     headers\u001b[39m=\u001b[39;49mheaders,\n\u001b[0;32m    710\u001b[0m     chunked\u001b[39m=\u001b[39;49mchunked,\n\u001b[0;32m    711\u001b[0m )\n\u001b[0;32m    713\u001b[0m \u001b[39m# If we're going to release the connection in ``finally:``, then\u001b[39;00m\n\u001b[0;32m    714\u001b[0m \u001b[39m# the response doesn't need to know about the connection. Otherwise\u001b[39;00m\n\u001b[0;32m    715\u001b[0m \u001b[39m# it will also try to release it and we'll have a double-release\u001b[39;00m\n\u001b[0;32m    716\u001b[0m \u001b[39m# mess.\u001b[39;00m\n\u001b[0;32m    717\u001b[0m response_conn \u001b[39m=\u001b[39m conn \u001b[39mif\u001b[39;00m \u001b[39mnot\u001b[39;00m release_conn \u001b[39melse\u001b[39;00m \u001b[39mNone\u001b[39;00m\n",
      "File \u001b[1;32mc:\\Users\\Albert\\anaconda3\\envs\\traffic_gat_test\\lib\\site-packages\\urllib3\\connectionpool.py:449\u001b[0m, in \u001b[0;36mHTTPConnectionPool._make_request\u001b[1;34m(self, conn, method, url, timeout, chunked, **httplib_request_kw)\u001b[0m\n\u001b[0;32m    444\u001b[0m             httplib_response \u001b[39m=\u001b[39m conn\u001b[39m.\u001b[39mgetresponse()\n\u001b[0;32m    445\u001b[0m         \u001b[39mexcept\u001b[39;00m \u001b[39mBaseException\u001b[39;00m \u001b[39mas\u001b[39;00m e:\n\u001b[0;32m    446\u001b[0m             \u001b[39m# Remove the TypeError from the exception chain in\u001b[39;00m\n\u001b[0;32m    447\u001b[0m             \u001b[39m# Python 3 (including for exceptions like SystemExit).\u001b[39;00m\n\u001b[0;32m    448\u001b[0m             \u001b[39m# Otherwise it looks like a bug in the code.\u001b[39;00m\n\u001b[1;32m--> 449\u001b[0m             six\u001b[39m.\u001b[39;49mraise_from(e, \u001b[39mNone\u001b[39;49;00m)\n\u001b[0;32m    450\u001b[0m \u001b[39mexcept\u001b[39;00m (SocketTimeout, BaseSSLError, SocketError) \u001b[39mas\u001b[39;00m e:\n\u001b[0;32m    451\u001b[0m     \u001b[39mself\u001b[39m\u001b[39m.\u001b[39m_raise_timeout(err\u001b[39m=\u001b[39me, url\u001b[39m=\u001b[39murl, timeout_value\u001b[39m=\u001b[39mread_timeout)\n",
      "File \u001b[1;32m<string>:3\u001b[0m, in \u001b[0;36mraise_from\u001b[1;34m(value, from_value)\u001b[0m\n",
      "File \u001b[1;32mc:\\Users\\Albert\\anaconda3\\envs\\traffic_gat_test\\lib\\site-packages\\urllib3\\connectionpool.py:444\u001b[0m, in \u001b[0;36mHTTPConnectionPool._make_request\u001b[1;34m(self, conn, method, url, timeout, chunked, **httplib_request_kw)\u001b[0m\n\u001b[0;32m    441\u001b[0m \u001b[39mexcept\u001b[39;00m \u001b[39mTypeError\u001b[39;00m:\n\u001b[0;32m    442\u001b[0m     \u001b[39m# Python 3\u001b[39;00m\n\u001b[0;32m    443\u001b[0m     \u001b[39mtry\u001b[39;00m:\n\u001b[1;32m--> 444\u001b[0m         httplib_response \u001b[39m=\u001b[39m conn\u001b[39m.\u001b[39;49mgetresponse()\n\u001b[0;32m    445\u001b[0m     \u001b[39mexcept\u001b[39;00m \u001b[39mBaseException\u001b[39;00m \u001b[39mas\u001b[39;00m e:\n\u001b[0;32m    446\u001b[0m         \u001b[39m# Remove the TypeError from the exception chain in\u001b[39;00m\n\u001b[0;32m    447\u001b[0m         \u001b[39m# Python 3 (including for exceptions like SystemExit).\u001b[39;00m\n\u001b[0;32m    448\u001b[0m         \u001b[39m# Otherwise it looks like a bug in the code.\u001b[39;00m\n\u001b[0;32m    449\u001b[0m         six\u001b[39m.\u001b[39mraise_from(e, \u001b[39mNone\u001b[39;00m)\n",
      "File \u001b[1;32mc:\\Users\\Albert\\anaconda3\\envs\\traffic_gat_test\\lib\\http\\client.py:1374\u001b[0m, in \u001b[0;36mHTTPConnection.getresponse\u001b[1;34m(self)\u001b[0m\n\u001b[0;32m   1372\u001b[0m \u001b[39mtry\u001b[39;00m:\n\u001b[0;32m   1373\u001b[0m     \u001b[39mtry\u001b[39;00m:\n\u001b[1;32m-> 1374\u001b[0m         response\u001b[39m.\u001b[39;49mbegin()\n\u001b[0;32m   1375\u001b[0m     \u001b[39mexcept\u001b[39;00m \u001b[39mConnectionError\u001b[39;00m:\n\u001b[0;32m   1376\u001b[0m         \u001b[39mself\u001b[39m\u001b[39m.\u001b[39mclose()\n",
      "File \u001b[1;32mc:\\Users\\Albert\\anaconda3\\envs\\traffic_gat_test\\lib\\http\\client.py:318\u001b[0m, in \u001b[0;36mHTTPResponse.begin\u001b[1;34m(self)\u001b[0m\n\u001b[0;32m    316\u001b[0m \u001b[39m# read until we get a non-100 response\u001b[39;00m\n\u001b[0;32m    317\u001b[0m \u001b[39mwhile\u001b[39;00m \u001b[39mTrue\u001b[39;00m:\n\u001b[1;32m--> 318\u001b[0m     version, status, reason \u001b[39m=\u001b[39m \u001b[39mself\u001b[39;49m\u001b[39m.\u001b[39;49m_read_status()\n\u001b[0;32m    319\u001b[0m     \u001b[39mif\u001b[39;00m status \u001b[39m!=\u001b[39m CONTINUE:\n\u001b[0;32m    320\u001b[0m         \u001b[39mbreak\u001b[39;00m\n",
      "File \u001b[1;32mc:\\Users\\Albert\\anaconda3\\envs\\traffic_gat_test\\lib\\http\\client.py:279\u001b[0m, in \u001b[0;36mHTTPResponse._read_status\u001b[1;34m(self)\u001b[0m\n\u001b[0;32m    278\u001b[0m \u001b[39mdef\u001b[39;00m \u001b[39m_read_status\u001b[39m(\u001b[39mself\u001b[39m):\n\u001b[1;32m--> 279\u001b[0m     line \u001b[39m=\u001b[39m \u001b[39mstr\u001b[39m(\u001b[39mself\u001b[39;49m\u001b[39m.\u001b[39;49mfp\u001b[39m.\u001b[39;49mreadline(_MAXLINE \u001b[39m+\u001b[39;49m \u001b[39m1\u001b[39;49m), \u001b[39m\"\u001b[39m\u001b[39miso-8859-1\u001b[39m\u001b[39m\"\u001b[39m)\n\u001b[0;32m    280\u001b[0m     \u001b[39mif\u001b[39;00m \u001b[39mlen\u001b[39m(line) \u001b[39m>\u001b[39m _MAXLINE:\n\u001b[0;32m    281\u001b[0m         \u001b[39mraise\u001b[39;00m LineTooLong(\u001b[39m\"\u001b[39m\u001b[39mstatus line\u001b[39m\u001b[39m\"\u001b[39m)\n",
      "File \u001b[1;32mc:\\Users\\Albert\\anaconda3\\envs\\traffic_gat_test\\lib\\socket.py:705\u001b[0m, in \u001b[0;36mSocketIO.readinto\u001b[1;34m(self, b)\u001b[0m\n\u001b[0;32m    703\u001b[0m \u001b[39mwhile\u001b[39;00m \u001b[39mTrue\u001b[39;00m:\n\u001b[0;32m    704\u001b[0m     \u001b[39mtry\u001b[39;00m:\n\u001b[1;32m--> 705\u001b[0m         \u001b[39mreturn\u001b[39;00m \u001b[39mself\u001b[39;49m\u001b[39m.\u001b[39;49m_sock\u001b[39m.\u001b[39;49mrecv_into(b)\n\u001b[0;32m    706\u001b[0m     \u001b[39mexcept\u001b[39;00m timeout:\n\u001b[0;32m    707\u001b[0m         \u001b[39mself\u001b[39m\u001b[39m.\u001b[39m_timeout_occurred \u001b[39m=\u001b[39m \u001b[39mTrue\u001b[39;00m\n",
      "File \u001b[1;32mc:\\Users\\Albert\\anaconda3\\envs\\traffic_gat_test\\lib\\ssl.py:1274\u001b[0m, in \u001b[0;36mSSLSocket.recv_into\u001b[1;34m(self, buffer, nbytes, flags)\u001b[0m\n\u001b[0;32m   1270\u001b[0m     \u001b[39mif\u001b[39;00m flags \u001b[39m!=\u001b[39m \u001b[39m0\u001b[39m:\n\u001b[0;32m   1271\u001b[0m         \u001b[39mraise\u001b[39;00m \u001b[39mValueError\u001b[39;00m(\n\u001b[0;32m   1272\u001b[0m           \u001b[39m\"\u001b[39m\u001b[39mnon-zero flags not allowed in calls to recv_into() on \u001b[39m\u001b[39m%s\u001b[39;00m\u001b[39m\"\u001b[39m \u001b[39m%\u001b[39m\n\u001b[0;32m   1273\u001b[0m           \u001b[39mself\u001b[39m\u001b[39m.\u001b[39m\u001b[39m__class__\u001b[39m)\n\u001b[1;32m-> 1274\u001b[0m     \u001b[39mreturn\u001b[39;00m \u001b[39mself\u001b[39;49m\u001b[39m.\u001b[39;49mread(nbytes, buffer)\n\u001b[0;32m   1275\u001b[0m \u001b[39melse\u001b[39;00m:\n\u001b[0;32m   1276\u001b[0m     \u001b[39mreturn\u001b[39;00m \u001b[39msuper\u001b[39m()\u001b[39m.\u001b[39mrecv_into(buffer, nbytes, flags)\n",
      "File \u001b[1;32mc:\\Users\\Albert\\anaconda3\\envs\\traffic_gat_test\\lib\\ssl.py:1130\u001b[0m, in \u001b[0;36mSSLSocket.read\u001b[1;34m(self, len, buffer)\u001b[0m\n\u001b[0;32m   1128\u001b[0m \u001b[39mtry\u001b[39;00m:\n\u001b[0;32m   1129\u001b[0m     \u001b[39mif\u001b[39;00m buffer \u001b[39mis\u001b[39;00m \u001b[39mnot\u001b[39;00m \u001b[39mNone\u001b[39;00m:\n\u001b[1;32m-> 1130\u001b[0m         \u001b[39mreturn\u001b[39;00m \u001b[39mself\u001b[39;49m\u001b[39m.\u001b[39;49m_sslobj\u001b[39m.\u001b[39;49mread(\u001b[39mlen\u001b[39;49m, buffer)\n\u001b[0;32m   1131\u001b[0m     \u001b[39melse\u001b[39;00m:\n\u001b[0;32m   1132\u001b[0m         \u001b[39mreturn\u001b[39;00m \u001b[39mself\u001b[39m\u001b[39m.\u001b[39m_sslobj\u001b[39m.\u001b[39mread(\u001b[39mlen\u001b[39m)\n",
      "\u001b[1;31mKeyboardInterrupt\u001b[0m: "
     ]
    }
   ],
   "source": [
    "headers = request_token()\n",
    "\n",
    "for i in range(1):\n",
    "\n",
    "    response = requests.get(\"https://oauth.reddit.com/r/nba/\",\n",
    "                    headers=headers,\n",
    "                    params = {'id': ids_all})\n",
    "\n",
    "    #Get new dataframe from response from function\n",
    "    df_temp = df_from_response(response)\n",
    "    #Take the oldest entry\n",
    "    last_row = df_temp.iloc[-1]\n",
    "    #Reconstruct the unique identifier of the oldest post in the series (they're always sorted by score)\n",
    "    fullname = last_row['kind']+' '+last_row['id']\n",
    "    #Add this identifier to the \"after\" key in params, which will cause the subsequetn request to look for the next unique post on the list, below the identifier just mentioned\n",
    "    params['after'] = fullname\n",
    "\n",
    "    #Append new data to df\n",
    "    post_data = pd.concat([post_data, df_temp], ignore_index=True)\n",
    "\n",
    "    \n",
    "\n",
    "\n"
   ]
  },
  {
   "cell_type": "code",
   "execution_count": 145,
   "metadata": {},
   "outputs": [],
   "source": [
    "post_data.to_json('4000_top_upvoted')"
   ]
  },
  {
   "cell_type": "code",
   "execution_count": 151,
   "metadata": {},
   "outputs": [
    {
     "data": {
      "text/plain": [
       "kind                                                           t3\n",
       "title           Steph Curry tries to hit the full-court tunnel...\n",
       "upvote_ratio                                                 0.96\n",
       "score                                                       20301\n",
       "id                                                        11p1j2k\n",
       "Name: 2999, dtype: object"
      ]
     },
     "execution_count": 151,
     "metadata": {},
     "output_type": "execute_result"
    }
   ],
   "source": [
    "test_df = pd.read_json('4000_top_upvoted')\n"
   ]
  },
  {
   "cell_type": "code",
   "execution_count": 153,
   "metadata": {},
   "outputs": [
    {
     "data": {
      "text/html": [
       "<div>\n",
       "<style scoped>\n",
       "    .dataframe tbody tr th:only-of-type {\n",
       "        vertical-align: middle;\n",
       "    }\n",
       "\n",
       "    .dataframe tbody tr th {\n",
       "        vertical-align: top;\n",
       "    }\n",
       "\n",
       "    .dataframe thead th {\n",
       "        text-align: right;\n",
       "    }\n",
       "</style>\n",
       "<table border=\"1\" class=\"dataframe\">\n",
       "  <thead>\n",
       "    <tr style=\"text-align: right;\">\n",
       "      <th></th>\n",
       "      <th>kind</th>\n",
       "      <th>title</th>\n",
       "      <th>upvote_ratio</th>\n",
       "      <th>score</th>\n",
       "      <th>id</th>\n",
       "    </tr>\n",
       "  </thead>\n",
       "  <tbody>\n",
       "    <tr>\n",
       "      <th>0</th>\n",
       "      <td>t3</td>\n",
       "      <td>Steve Kerr gives a very heated speech about th...</td>\n",
       "      <td>0.84</td>\n",
       "      <td>88932</td>\n",
       "      <td>ux46gj</td>\n",
       "    </tr>\n",
       "    <tr>\n",
       "      <th>1</th>\n",
       "      <td>t3</td>\n",
       "      <td>Charles Barkley: “If you are gay or transgende...</td>\n",
       "      <td>0.83</td>\n",
       "      <td>78215</td>\n",
       "      <td>w0ispx</td>\n",
       "    </tr>\n",
       "    <tr>\n",
       "      <th>2</th>\n",
       "      <td>t3</td>\n",
       "      <td>Memphis Grizzlies scorekeeper posting fraudule...</td>\n",
       "      <td>0.89</td>\n",
       "      <td>66842</td>\n",
       "      <td>10nbau4</td>\n",
       "    </tr>\n",
       "    <tr>\n",
       "      <th>3</th>\n",
       "      <td>t3</td>\n",
       "      <td>[Highlight] LeBron James is now the scoring Ki...</td>\n",
       "      <td>0.86</td>\n",
       "      <td>58973</td>\n",
       "      <td>10wnucb</td>\n",
       "    </tr>\n",
       "    <tr>\n",
       "      <th>4</th>\n",
       "      <td>t3</td>\n",
       "      <td>[Highlight] Chris Paul hits a huge three to cu...</td>\n",
       "      <td>0.93</td>\n",
       "      <td>53542</td>\n",
       "      <td>uql0aw</td>\n",
       "    </tr>\n",
       "  </tbody>\n",
       "</table>\n",
       "</div>"
      ],
      "text/plain": [
       "  kind                                              title  upvote_ratio  \\\n",
       "0   t3  Steve Kerr gives a very heated speech about th...          0.84   \n",
       "1   t3  Charles Barkley: “If you are gay or transgende...          0.83   \n",
       "2   t3  Memphis Grizzlies scorekeeper posting fraudule...          0.89   \n",
       "3   t3  [Highlight] LeBron James is now the scoring Ki...          0.86   \n",
       "4   t3  [Highlight] Chris Paul hits a huge three to cu...          0.93   \n",
       "\n",
       "   score       id  \n",
       "0  88932   ux46gj  \n",
       "1  78215   w0ispx  \n",
       "2  66842  10nbau4  \n",
       "3  58973  10wnucb  \n",
       "4  53542   uql0aw  "
      ]
     },
     "execution_count": 153,
     "metadata": {},
     "output_type": "execute_result"
    }
   ],
   "source": [
    "test_df.head()"
   ]
  },
  {
   "cell_type": "code",
   "execution_count": 89,
   "metadata": {},
   "outputs": [
    {
     "data": {
      "text/plain": [
       "'Steve Kerr gives a very heated speech about the Uvalde shooting then storms out'"
      ]
     },
     "execution_count": 89,
     "metadata": {},
     "output_type": "execute_result"
    }
   ],
   "source": [
    "post_data['title'][0]"
   ]
  },
  {
   "cell_type": "code",
   "execution_count": null,
   "metadata": {},
   "outputs": [],
   "source": []
  }
 ],
 "metadata": {
  "kernelspec": {
   "display_name": "hackathon",
   "language": "python",
   "name": "python3"
  },
  "language_info": {
   "codemirror_mode": {
    "name": "ipython",
    "version": 3
   },
   "file_extension": ".py",
   "mimetype": "text/x-python",
   "name": "python",
   "nbconvert_exporter": "python",
   "pygments_lexer": "ipython3",
   "version": "3.10.8"
  },
  "orig_nbformat": 4,
  "vscode": {
   "interpreter": {
    "hash": "22782bf086980a597813833627257b8fd0f2ec5b5fb163a3f665d2a9eebd03ff"
   }
  }
 },
 "nbformat": 4,
 "nbformat_minor": 2
}
