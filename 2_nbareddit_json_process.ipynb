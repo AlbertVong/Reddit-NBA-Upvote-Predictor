{
 "cells": [
  {
   "cell_type": "code",
   "execution_count": 1,
   "metadata": {},
   "outputs": [],
   "source": [
    "import pandas as pd\n",
    "import numpy as np\n",
    "import matplotlib.pyplot as plt"
   ]
  },
  {
   "cell_type": "code",
   "execution_count": 2,
   "metadata": {},
   "outputs": [],
   "source": [
    "sub_df = pd.read_json('2019_to_2020_submissions.txt', lines=True)"
   ]
  },
  {
   "cell_type": "code",
   "execution_count": 3,
   "metadata": {},
   "outputs": [
    {
     "data": {
      "text/plain": [
       "['all_awardings',\n",
       " 'allow_live_comments',\n",
       " 'archived',\n",
       " 'author',\n",
       " 'author_created_utc',\n",
       " 'author_flair_background_color',\n",
       " 'author_flair_css_class',\n",
       " 'author_flair_richtext',\n",
       " 'author_flair_template_id',\n",
       " 'author_flair_text',\n",
       " 'author_flair_text_color',\n",
       " 'author_flair_type',\n",
       " 'author_fullname',\n",
       " 'author_patreon_flair',\n",
       " 'author_premium',\n",
       " 'awarders',\n",
       " 'can_gild',\n",
       " 'can_mod_post',\n",
       " 'category',\n",
       " 'content_categories',\n",
       " 'contest_mode',\n",
       " 'created_utc',\n",
       " 'discussion_type',\n",
       " 'distinguished',\n",
       " 'domain',\n",
       " 'edited',\n",
       " 'gilded',\n",
       " 'gildings',\n",
       " 'hidden',\n",
       " 'id',\n",
       " 'is_crosspostable',\n",
       " 'is_meta',\n",
       " 'is_original_content',\n",
       " 'is_reddit_media_domain',\n",
       " 'is_robot_indexable',\n",
       " 'is_self',\n",
       " 'is_video',\n",
       " 'link_flair_background_color',\n",
       " 'link_flair_css_class',\n",
       " 'link_flair_richtext',\n",
       " 'link_flair_text',\n",
       " 'link_flair_text_color',\n",
       " 'link_flair_type',\n",
       " 'locked',\n",
       " 'media',\n",
       " 'media_embed',\n",
       " 'media_only',\n",
       " 'no_follow',\n",
       " 'num_comments',\n",
       " 'num_crossposts',\n",
       " 'over_18',\n",
       " 'parent_whitelist_status',\n",
       " 'permalink',\n",
       " 'pinned',\n",
       " 'pwls',\n",
       " 'quarantine',\n",
       " 'removal_reason',\n",
       " 'removed_by',\n",
       " 'removed_by_category',\n",
       " 'retrieved_on',\n",
       " 'score',\n",
       " 'secure_media',\n",
       " 'secure_media_embed',\n",
       " 'selftext',\n",
       " 'send_replies',\n",
       " 'spoiler',\n",
       " 'stickied',\n",
       " 'subreddit',\n",
       " 'subreddit_id',\n",
       " 'subreddit_name_prefixed',\n",
       " 'subreddit_subscribers',\n",
       " 'subreddit_type',\n",
       " 'suggested_sort',\n",
       " 'thumbnail',\n",
       " 'thumbnail_height',\n",
       " 'thumbnail_width',\n",
       " 'title',\n",
       " 'total_awards_received',\n",
       " 'url',\n",
       " 'whitelist_status',\n",
       " 'wls',\n",
       " 'post_hint',\n",
       " 'preview',\n",
       " 'treatment_tags',\n",
       " 'link_flair_template_id',\n",
       " 'crosspost_parent',\n",
       " 'crosspost_parent_list',\n",
       " 'media_metadata',\n",
       " 'author_cakeday',\n",
       " 'poll_data',\n",
       " 'event_end',\n",
       " 'event_is_live',\n",
       " 'event_start',\n",
       " 'collections',\n",
       " 'hide_score',\n",
       " 'is_created_from_ads_ui',\n",
       " 'name',\n",
       " 'retrieved_utc',\n",
       " 'top_awarded_type',\n",
       " 'upvote_ratio',\n",
       " 'url_overridden_by_dest']"
      ]
     },
     "execution_count": 3,
     "metadata": {},
     "output_type": "execute_result"
    }
   ],
   "source": [
    "list(sub_df.columns)"
   ]
  },
  {
   "cell_type": "code",
   "execution_count": 4,
   "metadata": {},
   "outputs": [],
   "source": [
    "sub_df = sub_df[['title','score','num_comments','upvote_ratio',\n",
    "                          'created_utc','category',\n",
    "                          'media_metadata','is_video','media','is_self','media_embed',\n",
    "                          'total_awards_received']]\n",
    "\n",
    "sub_df['created_utc'] = pd.to_datetime(sub_df['created_utc'],unit='s')"
   ]
  },
  {
   "cell_type": "code",
   "execution_count": 5,
   "metadata": {},
   "outputs": [
    {
     "data": {
      "text/html": [
       "<div>\n",
       "<style scoped>\n",
       "    .dataframe tbody tr th:only-of-type {\n",
       "        vertical-align: middle;\n",
       "    }\n",
       "\n",
       "    .dataframe tbody tr th {\n",
       "        vertical-align: top;\n",
       "    }\n",
       "\n",
       "    .dataframe thead th {\n",
       "        text-align: right;\n",
       "    }\n",
       "</style>\n",
       "<table border=\"1\" class=\"dataframe\">\n",
       "  <thead>\n",
       "    <tr style=\"text-align: right;\">\n",
       "      <th></th>\n",
       "      <th>title</th>\n",
       "      <th>score</th>\n",
       "      <th>num_comments</th>\n",
       "      <th>upvote_ratio</th>\n",
       "      <th>created_utc</th>\n",
       "      <th>category</th>\n",
       "      <th>media_metadata</th>\n",
       "      <th>is_video</th>\n",
       "      <th>media</th>\n",
       "      <th>is_self</th>\n",
       "      <th>media_embed</th>\n",
       "      <th>total_awards_received</th>\n",
       "    </tr>\n",
       "  </thead>\n",
       "  <tbody>\n",
       "    <tr>\n",
       "      <th>0</th>\n",
       "      <td>The 2019 NBA Offseason is officially over</td>\n",
       "      <td>401</td>\n",
       "      <td>48</td>\n",
       "      <td>NaN</td>\n",
       "      <td>2019-10-01 00:13:55</td>\n",
       "      <td>NaN</td>\n",
       "      <td>NaN</td>\n",
       "      <td>False</td>\n",
       "      <td>None</td>\n",
       "      <td>True</td>\n",
       "      <td>{}</td>\n",
       "      <td>0</td>\n",
       "    </tr>\n",
       "    <tr>\n",
       "      <th>1</th>\n",
       "      <td>[Highlight] Harden unveils his new one-legged ...</td>\n",
       "      <td>4087</td>\n",
       "      <td>636</td>\n",
       "      <td>NaN</td>\n",
       "      <td>2019-10-01 00:20:20</td>\n",
       "      <td>NaN</td>\n",
       "      <td>NaN</td>\n",
       "      <td>False</td>\n",
       "      <td>{'oembed': {'description': 'Check out this vid...</td>\n",
       "      <td>False</td>\n",
       "      <td>{'content': '&amp;lt;iframe class=\"embedly-embed\" ...</td>\n",
       "      <td>3</td>\n",
       "    </tr>\n",
       "    <tr>\n",
       "      <th>2</th>\n",
       "      <td>NBATV: You need to stop squeezing the picture ...</td>\n",
       "      <td>582</td>\n",
       "      <td>20</td>\n",
       "      <td>NaN</td>\n",
       "      <td>2019-10-01 01:07:46</td>\n",
       "      <td>NaN</td>\n",
       "      <td>NaN</td>\n",
       "      <td>False</td>\n",
       "      <td>None</td>\n",
       "      <td>True</td>\n",
       "      <td>{}</td>\n",
       "      <td>0</td>\n",
       "    </tr>\n",
       "    <tr>\n",
       "      <th>3</th>\n",
       "      <td>James Harden has 10 points, 11 rebounds, and 1...</td>\n",
       "      <td>969</td>\n",
       "      <td>69</td>\n",
       "      <td>NaN</td>\n",
       "      <td>2019-10-01 01:13:18</td>\n",
       "      <td>NaN</td>\n",
       "      <td>NaN</td>\n",
       "      <td>False</td>\n",
       "      <td>None</td>\n",
       "      <td>True</td>\n",
       "      <td>{}</td>\n",
       "      <td>0</td>\n",
       "    </tr>\n",
       "    <tr>\n",
       "      <th>4</th>\n",
       "      <td>[Highlight] Harden putting on a show, Westbroo...</td>\n",
       "      <td>415</td>\n",
       "      <td>87</td>\n",
       "      <td>NaN</td>\n",
       "      <td>2019-10-01 01:24:20</td>\n",
       "      <td>NaN</td>\n",
       "      <td>NaN</td>\n",
       "      <td>False</td>\n",
       "      <td>{'oembed': {'description': 'Check out this vid...</td>\n",
       "      <td>False</td>\n",
       "      <td>{'content': '&amp;lt;iframe class=\"embedly-embed\" ...</td>\n",
       "      <td>0</td>\n",
       "    </tr>\n",
       "  </tbody>\n",
       "</table>\n",
       "</div>"
      ],
      "text/plain": [
       "                                               title  score  num_comments  \\\n",
       "0          The 2019 NBA Offseason is officially over    401            48   \n",
       "1  [Highlight] Harden unveils his new one-legged ...   4087           636   \n",
       "2  NBATV: You need to stop squeezing the picture ...    582            20   \n",
       "3  James Harden has 10 points, 11 rebounds, and 1...    969            69   \n",
       "4  [Highlight] Harden putting on a show, Westbroo...    415            87   \n",
       "\n",
       "   upvote_ratio         created_utc  category media_metadata  is_video  \\\n",
       "0           NaN 2019-10-01 00:13:55       NaN            NaN     False   \n",
       "1           NaN 2019-10-01 00:20:20       NaN            NaN     False   \n",
       "2           NaN 2019-10-01 01:07:46       NaN            NaN     False   \n",
       "3           NaN 2019-10-01 01:13:18       NaN            NaN     False   \n",
       "4           NaN 2019-10-01 01:24:20       NaN            NaN     False   \n",
       "\n",
       "                                               media  is_self  \\\n",
       "0                                               None     True   \n",
       "1  {'oembed': {'description': 'Check out this vid...    False   \n",
       "2                                               None     True   \n",
       "3                                               None     True   \n",
       "4  {'oembed': {'description': 'Check out this vid...    False   \n",
       "\n",
       "                                         media_embed  total_awards_received  \n",
       "0                                                 {}                      0  \n",
       "1  {'content': '&lt;iframe class=\"embedly-embed\" ...                      3  \n",
       "2                                                 {}                      0  \n",
       "3                                                 {}                      0  \n",
       "4  {'content': '&lt;iframe class=\"embedly-embed\" ...                      0  "
      ]
     },
     "execution_count": 5,
     "metadata": {},
     "output_type": "execute_result"
    }
   ],
   "source": [
    "sub_df.head(5)"
   ]
  },
  {
   "attachments": {},
   "cell_type": "markdown",
   "metadata": {},
   "source": [
    "Let's quickly do some EDA to see how the dataset looks like. There are several immediate questions I have about the distribution of scores, and how those vary with other variables like comments (are more popular posts likely to be more commented on).\n",
    "\n",
    "I'm also curious about the date (when does subreddit activity peak? Does this relate to NBA events like the playoffs, where more is at stake?)"
   ]
  },
  {
   "attachments": {},
   "cell_type": "markdown",
   "metadata": {},
   "source": [
    "# Post score distribution\n",
    "\n",
    "*Preamble about upvotes*<br />\n",
    "Any reddit reader with an account is given the ability to give an arbitrary post or comment an \"upvote\". This is analagous to a \"like\" in many other social media platforms including Youtube and Facebook. Posts and comments with more upvotes will become more visible to a new reader if they were to visit the relevant page hosting the post/comment.\n",
    "\n",
    "Let's first take a look at the post score distribution. I expect this distribution to have an **exponential decaying shape**, because I would expect\n",
    "that when a post first gains traction (i.e. score increases), the probability of getting an upvote from an arbitrary reader is proportional to the post's visibility on the front page. <br />\n",
    "\n",
    "This means as long as a post is visible, it will be upvoted at a random, arbitrary rate, which can be modelled by a **Poissonian point process** (upvotes occur continuously and independently with an average rate). In other words, there must be a \"survival decay rate\" of posts, where the probability of a post surviving on the front page for longer (and therefore gaining more upvotes) exponentially decays with time. This should be reflected in the post score distribution, where the number of posts (representing probability) and number of upvotes (corresponding to survival time) can be modelled by an **exponential distribution**.\n"
   ]
  },
  {
   "cell_type": "code",
   "execution_count": 6,
   "metadata": {},
   "outputs": [
    {
     "data": {
      "text/plain": [
       "<AxesSubplot: >"
      ]
     },
     "execution_count": 6,
     "metadata": {},
     "output_type": "execute_result"
    },
    {
     "data": {
      "image/png": "[encoded data removed]",
      "text/plain": [
       "<Figure size 1200x800 with 1 Axes>"
      ]
     },
     "metadata": {},
     "output_type": "display_data"
    }
   ],
   "source": [
    "#Creating histogram bins for a score distribution histogram\n",
    "bin_vec = np.linspace(0,8000,200)\n",
    "bin_list = bin_vec.tolist()\n",
    "\n",
    "sub_df['score'].hist(bins=bin_list,\n",
    "                             grid=False,\n",
    "                             figsize=(12,8))"
   ]
  },
  {
   "attachments": {},
   "cell_type": "markdown",
   "metadata": {},
   "source": [
    "# Date distribution"
   ]
  },
  {
   "cell_type": "code",
   "execution_count": 7,
   "metadata": {},
   "outputs": [
    {
     "data": {
      "text/plain": [
       "<AxesSubplot: title={'center': 'Post counts in 5 day intervals from 10/01/2019 to 06/01/2020'}, xlabel='Dates', ylabel='Counts'>"
      ]
     },
     "execution_count": 7,
     "metadata": {},
     "output_type": "execute_result"
    },
    {
     "data": {
      "image/png": "[encoded data removed]",
      "text/plain": [
       "<Figure size 1200x800 with 1 Axes>"
      ]
     },
     "metadata": {},
     "output_type": "display_data"
    }
   ],
   "source": [
    "#Use pd.Grouper in order to group posts by dates with a date interval of 5 days.\n",
    "#We get out a dataframe with the number of posts per 5 days from the start of the nba season to end of season\n",
    "\n",
    "date_df = sub_df.groupby(pd.Grouper(key='created_utc',freq='5D')).size().to_frame()\n",
    "\n",
    "#Rename columns so we have a clear x,y for plotting\n",
    "date_df.rename(columns = {date_df.columns[0]: \"Counts\"}, inplace = True)\n",
    "date_df.reset_index(inplace = True)\n",
    "\n",
    "#Plot using df.plot\n",
    "date_df.plot.bar(x='created_utc',y='Counts',\n",
    "                 figsize = (12,8),\n",
    "                 title = 'Post counts in 5 day intervals from 10/01/2019 to 06/01/2020',\n",
    "                 xlabel= 'Dates',\n",
    "                 ylabel= 'Counts')\n",
    "\n"
   ]
  },
  {
   "attachments": {},
   "cell_type": "markdown",
   "metadata": {},
   "source": [
    "Posts seem to have peaked in the beginning of February, and actually decrease to an annual low during the time period when playoffs occur. This could partially be because there are much fewer games during this time period, so there is alot less to discuss.\n",
    "\n",
    "There is a key event called the **\"NBA in-season trade deadline\"**, before which players are able to be moved between teams. Many fans are excited with trade rumours as different teams explore a large variety of trade offers from other teams in the league. The deadline to move players was exactly on **February 6, 2020\", which perfectly corresponds to a drop in the number of posts on the snapshot of 2020-02-08.\n"
   ]
  },
  {
   "attachments": {},
   "cell_type": "markdown",
   "metadata": {},
   "source": [
    "# Score/Comment correlation\n",
    "\n",
    "We're also interested to see if more popular posts are more likely to get comments. This is a pretty obvious correlation, as the average reddit user is more likely to contribute to discussion that is more visible. Similarly, I would expect the comment distribution to also have an exponential distribution if the driving force behind commenting on a post and giving a post an upvote is similar (i.e. can be modelled by a Poissonian point process)."
   ]
  },
  {
   "cell_type": "code",
   "execution_count": 8,
   "metadata": {},
   "outputs": [],
   "source": [
    "#Define quick labelling function\n",
    "def plot_labelling(title,xlabel,ylabel):\n",
    "    plt.title(label=title, fontdict = {'fontsize': 20})\n",
    "    plt.xlabel(xlabel, fontdict = {'fontsize': 14})\n",
    "    plt.ylabel(ylabel, fontdict = {'fontsize': 14})"
   ]
  },
  {
   "cell_type": "code",
   "execution_count": 9,
   "metadata": {},
   "outputs": [
    {
     "data": {
      "image/png": "[encoded data removed]",
      "text/plain": [
       "<Figure size 1200x800 with 1 Axes>"
      ]
     },
     "metadata": {},
     "output_type": "display_data"
    }
   ],
   "source": [
    "#Let's define a different set of bins for comments\n",
    "#Let's define the bin maximum to be 1.5 standard deviations above the mean number of comments\n",
    "bin_max= sub_df['num_comments'].mean() + sub_df['num_comments'].std() * 2\n",
    "\n",
    "#Let's take the fiftieth percentile of the max comment length, which could be an anomaly\n",
    "bin_vec = np.linspace(0,bin_max,200)\n",
    "bin_list = bin_vec.tolist()\n",
    "\n",
    "#Set up figures, axes\n",
    "fig, axes = plt.subplots(nrows=1,ncols=1)\n",
    "\n",
    "sub_df['num_comments'].hist(bins=bin_list,\n",
    "                             grid=False,\n",
    "                             figsize=(12,8),\n",
    "                             ax=axes)\n",
    "\n",
    "plot_labelling('Number of submissions with a certain comment count',\n",
    "               'Comment count (#)',\n",
    "               'Number of submissions (#)')"
   ]
  },
  {
   "attachments": {},
   "cell_type": "markdown",
   "metadata": {},
   "source": [
    "As expected, the change in number of submissions with comment count follows an exponential decay similar to post upvote score. Note that there is some sort of \"rise\" of this distribution at low comment counts which is uncharacteristic of an exponential distribution. This is not surprising as there are other factors that contribute to the number of comments a post will get aside from its \"survival probability\". These other effects could be modelled with another distribution which would be convolved with an exponential distribution.\n",
    "\n",
    "**Think about this later**\n",
    "\n",
    "Now, let's plot the score/comment distribution"
   ]
  },
  {
   "cell_type": "code",
   "execution_count": 10,
   "metadata": {},
   "outputs": [
    {
     "data": {
      "image/png": "[encoded data removed]",
      "text/plain": [
       "<Figure size 640x480 with 1 Axes>"
      ]
     },
     "metadata": {},
     "output_type": "display_data"
    }
   ],
   "source": [
    "#Randomly subsample posts for plotting purposes (it's really noisy otherwise)\n",
    "sub_df_subsample = sub_df.sample(n=2000)\n",
    "\n",
    "sub_df_subsample.plot.scatter(x = 'num_comments', y = 'score',\n",
    "                    s = 20, c = 'blue')\n",
    "#Labelling\n",
    "plot_labelling('Number of comments on an r/nba submission versus its upvote number',\n",
    "               'Number of comments',\n",
    "               'Upvote number')\n",
    "\n",
    "#We need to log scale axes since most datapoints are clustered at low numbers\n",
    "plt.xscale('log')\n",
    "plt.yscale('log')\n",
    "\n",
    "\n"
   ]
  },
  {
   "attachments": {},
   "cell_type": "markdown",
   "metadata": {},
   "source": [
    "As expected, there is a positive correlation here. Note that there are a few standout posts where the number of comments far exceeds the number of upvotes. Let's try to see what kind of post titles show this kind of behavior"
   ]
  },
  {
   "cell_type": "code",
   "execution_count": 11,
   "metadata": {},
   "outputs": [],
   "source": [
    "df_outliers = sub_df.loc[sub_df['num_comments'] > sub_df['score'] * 2]\n",
    "\n",
    "#Filtering out random stuff\n",
    "bad_title = ['Free Talk Thread']\n",
    "mask = df_outliers['title'].isin(bad_title)\n",
    "df_outliers = df_outliers[~mask]"
   ]
  },
  {
   "cell_type": "code",
   "execution_count": 12,
   "metadata": {},
   "outputs": [
    {
     "data": {
      "text/html": [
       "<div>\n",
       "<style scoped>\n",
       "    .dataframe tbody tr th:only-of-type {\n",
       "        vertical-align: middle;\n",
       "    }\n",
       "\n",
       "    .dataframe tbody tr th {\n",
       "        vertical-align: top;\n",
       "    }\n",
       "\n",
       "    .dataframe thead th {\n",
       "        text-align: right;\n",
       "    }\n",
       "</style>\n",
       "<table border=\"1\" class=\"dataframe\">\n",
       "  <thead>\n",
       "    <tr style=\"text-align: right;\">\n",
       "      <th></th>\n",
       "      <th>title</th>\n",
       "      <th>score</th>\n",
       "      <th>num_comments</th>\n",
       "      <th>upvote_ratio</th>\n",
       "      <th>created_utc</th>\n",
       "      <th>category</th>\n",
       "      <th>media_metadata</th>\n",
       "      <th>is_video</th>\n",
       "      <th>media</th>\n",
       "      <th>is_self</th>\n",
       "      <th>media_embed</th>\n",
       "      <th>total_awards_received</th>\n",
       "    </tr>\n",
       "  </thead>\n",
       "  <tbody>\n",
       "    <tr>\n",
       "      <th>163</th>\n",
       "      <td>Unprovoked Hate Thread: What NBA player do you...</td>\n",
       "      <td>127</td>\n",
       "      <td>344</td>\n",
       "      <td>NaN</td>\n",
       "      <td>2019-10-04 02:31:37</td>\n",
       "      <td>NaN</td>\n",
       "      <td>NaN</td>\n",
       "      <td>False</td>\n",
       "      <td>None</td>\n",
       "      <td>True</td>\n",
       "      <td>{}</td>\n",
       "      <td>0</td>\n",
       "    </tr>\n",
       "    <tr>\n",
       "      <th>275</th>\n",
       "      <td>[Game Thread] The Los Angeles Lakers (0-0) @ T...</td>\n",
       "      <td>249</td>\n",
       "      <td>2035</td>\n",
       "      <td>NaN</td>\n",
       "      <td>2019-10-05 23:42:27</td>\n",
       "      <td>NaN</td>\n",
       "      <td>NaN</td>\n",
       "      <td>False</td>\n",
       "      <td>None</td>\n",
       "      <td>True</td>\n",
       "      <td>{}</td>\n",
       "      <td>0</td>\n",
       "    </tr>\n",
       "    <tr>\n",
       "      <th>937</th>\n",
       "      <td>Who are three players or teams you dont believ...</td>\n",
       "      <td>129</td>\n",
       "      <td>290</td>\n",
       "      <td>NaN</td>\n",
       "      <td>2019-10-15 16:16:53</td>\n",
       "      <td>NaN</td>\n",
       "      <td>NaN</td>\n",
       "      <td>False</td>\n",
       "      <td>None</td>\n",
       "      <td>True</td>\n",
       "      <td>{}</td>\n",
       "      <td>0</td>\n",
       "    </tr>\n",
       "    <tr>\n",
       "      <th>1000</th>\n",
       "      <td>What player or team gets the most excuses from...</td>\n",
       "      <td>121</td>\n",
       "      <td>359</td>\n",
       "      <td>NaN</td>\n",
       "      <td>2019-10-16 15:27:34</td>\n",
       "      <td>NaN</td>\n",
       "      <td>NaN</td>\n",
       "      <td>False</td>\n",
       "      <td>None</td>\n",
       "      <td>True</td>\n",
       "      <td>{}</td>\n",
       "      <td>0</td>\n",
       "    </tr>\n",
       "    <tr>\n",
       "      <th>1229</th>\n",
       "      <td>Who will be the best PG in the league 5 years ...</td>\n",
       "      <td>112</td>\n",
       "      <td>265</td>\n",
       "      <td>NaN</td>\n",
       "      <td>2019-10-19 22:14:02</td>\n",
       "      <td>NaN</td>\n",
       "      <td>NaN</td>\n",
       "      <td>False</td>\n",
       "      <td>None</td>\n",
       "      <td>True</td>\n",
       "      <td>{}</td>\n",
       "      <td>0</td>\n",
       "    </tr>\n",
       "    <tr>\n",
       "      <th>1238</th>\n",
       "      <td>What young player do you think will be out of ...</td>\n",
       "      <td>106</td>\n",
       "      <td>228</td>\n",
       "      <td>NaN</td>\n",
       "      <td>2019-10-20 02:52:50</td>\n",
       "      <td>NaN</td>\n",
       "      <td>NaN</td>\n",
       "      <td>False</td>\n",
       "      <td>None</td>\n",
       "      <td>True</td>\n",
       "      <td>{}</td>\n",
       "      <td>0</td>\n",
       "    </tr>\n",
       "  </tbody>\n",
       "</table>\n",
       "</div>"
      ],
      "text/plain": [
       "                                                  title  score  num_comments  \\\n",
       "163   Unprovoked Hate Thread: What NBA player do you...    127           344   \n",
       "275   [Game Thread] The Los Angeles Lakers (0-0) @ T...    249          2035   \n",
       "937   Who are three players or teams you dont believ...    129           290   \n",
       "1000  What player or team gets the most excuses from...    121           359   \n",
       "1229  Who will be the best PG in the league 5 years ...    112           265   \n",
       "1238  What young player do you think will be out of ...    106           228   \n",
       "\n",
       "      upvote_ratio         created_utc  category media_metadata  is_video  \\\n",
       "163            NaN 2019-10-04 02:31:37       NaN            NaN     False   \n",
       "275            NaN 2019-10-05 23:42:27       NaN            NaN     False   \n",
       "937            NaN 2019-10-15 16:16:53       NaN            NaN     False   \n",
       "1000           NaN 2019-10-16 15:27:34       NaN            NaN     False   \n",
       "1229           NaN 2019-10-19 22:14:02       NaN            NaN     False   \n",
       "1238           NaN 2019-10-20 02:52:50       NaN            NaN     False   \n",
       "\n",
       "     media  is_self media_embed  total_awards_received  \n",
       "163   None     True          {}                      0  \n",
       "275   None     True          {}                      0  \n",
       "937   None     True          {}                      0  \n",
       "1000  None     True          {}                      0  \n",
       "1229  None     True          {}                      0  \n",
       "1238  None     True          {}                      0  "
      ]
     },
     "execution_count": 12,
     "metadata": {},
     "output_type": "execute_result"
    }
   ],
   "source": [
    "df_outliers.head(6)"
   ]
  },
  {
   "attachments": {},
   "cell_type": "markdown",
   "metadata": {},
   "source": [
    "We won't look into this too deeply, but there are certain types of posts that are often commented on much more than upvoted. For example, game threads often have many comments, but aren't upvoted very much since the comments are more reactionary to a live stream, rather than well thought out. In this case, the point of the thread is not to discuss the subject of the submission (i.e. the title), but more of an aggregation of comments associated with a game."
   ]
  },
  {
   "attachments": {},
   "cell_type": "markdown",
   "metadata": {},
   "source": [
    "Now, let's get into the meat of the topic, which is to regress the upvote score based on title of a post. We could use some other metadata which is known a priori to creating a post (e.g. is this a discussion post, a media highlight, or even a crosslink to twitter for some recent news)"
   ]
  },
  {
   "attachments": {},
   "cell_type": "markdown",
   "metadata": {},
   "source": [
    "# Modifying a huggingface transformers model to perform upvote score regression on post metadata"
   ]
  },
  {
   "attachments": {},
   "cell_type": "markdown",
   "metadata": {},
   "source": [
    "Huggingface provides a large number of language models that can be run locally on most machines in order to perform a large variety of downstream tasks such as regression, classification, or even generative tasks as well. \n",
    "\n",
    "We'll be using one of the most popular models, \"distilbert-base-uncased\", and modifying it slightly in order to help us predict upvote scores based on post metadata, with a focus on the text of the title itself (as this is what we can control before we post). We will be excluding metadata that can only be determined after the post has become successful (e.g. number of comments, awards, etc.).\n",
    "\n",
    "Let's import all necessary models/tools from the:\n",
    "1. Transformers Library (all models/tokenizers for inference)\n",
    "2. Dataset Library (data pipeline/batching for training)"
   ]
  },
  {
   "cell_type": "code",
   "execution_count": 32,
   "metadata": {},
   "outputs": [],
   "source": [
    "#Use huggingface's transformers library to predict the score of a post based on its title\n",
    "#We will use the DistilBERT model, which is a smaller version of BERT\n",
    "\n",
    "\n",
    "from transformers import pipeline\n",
    "from transformers import DistilBertTokenizerFast\n",
    "from transformers import DistilBertForSequenceClassification\n",
    "from transformers import Trainer, TrainingArguments\n",
    "from transformers import AutoTokenizer, AutoModel, AutoConfig, AutoModelForSequenceClassification\n",
    "from transformers.modeling_outputs import TokenClassifierOutput\n",
    "\n",
    "from datasets import Dataset, load_dataset, load_from_disk, load_metric\n",
    "\n",
    "from sklearn.metrics import mean_squared_error\n",
    "\n",
    "from torch import nn\n",
    "import torch"
   ]
  },
  {
   "attachments": {},
   "cell_type": "markdown",
   "metadata": {},
   "source": [
    "Let's first transform our title text data into a format that is suitable for use by transformers (i.e. tokenization)."
   ]
  },
  {
   "cell_type": "code",
   "execution_count": 14,
   "metadata": {},
   "outputs": [
    {
     "name": "stdout",
     "output_type": "stream",
     "text": [
      "Max tokenizer length is 512\n",
      "Max post title length is 311\n"
     ]
    }
   ],
   "source": [
    "from transformers import AutoTokenizer\n",
    "tokenizer = AutoTokenizer.from_pretrained(\"distilbert-base-uncased\")\n",
    "\n",
    "#We can quickly check the max length of this tokenizer to make sure any of our post titles don't exceed it\n",
    "print(f'Max tokenizer length is {tokenizer.model_max_length}')\n",
    "print(f'Max post title length is {sub_df[\"title\"].str.len().max()}')"
   ]
  },
  {
   "cell_type": "code",
   "execution_count": 15,
   "metadata": {},
   "outputs": [
    {
     "name": "stderr",
     "output_type": "stream",
     "text": [
      "/var/folders/gs/2vxzz2sn2xb79y3v1l6mtp0r0000gn/T/ipykernel_4229/2605786963.py:5: SettingWithCopyWarning: \n",
      "A value is trying to be set on a copy of a slice from a DataFrame\n",
      "\n",
      "See the caveats in the documentation: https://pandas.pydata.org/pandas-docs/stable/user_guide/indexing.html#returning-a-view-versus-a-copy\n",
      "  title_score_df.rename(columns = {'title': \"text\", 'score': \"label\"}, inplace = True)\n"
     ]
    }
   ],
   "source": [
    "#Create a dataframe with just the title and score columns from sub_df\n",
    "title_score_df = sub_df[['title','score']]\n",
    "#Rename columns to match the format of the dataset\n",
    "#This is the format that transformer library expects for training/evaluation\n",
    "title_score_df.rename(columns = {'title': \"text\", 'score': \"label\"}, inplace = True)\n",
    "\n",
    "#Convert sub_df into dataset format\n",
    "#Preserve_index = False means that index of dataframe not kept\n",
    "dataset = Dataset.from_pandas(title_score_df, preserve_index=False)\n",
    "#Train test split dataset into 80% train, 20% test\n",
    "dataset = dataset.train_test_split(test_size=0.2)\n",
    "\n",
    "#dataset is in a dictionary format, making both train and test sets accessible\n",
    "\n"
   ]
  },
  {
   "cell_type": "code",
   "execution_count": 16,
   "metadata": {},
   "outputs": [
    {
     "data": {
      "application/vnd.jupyter.widget-view+json": {
       "model_id": "b1e98000419046169bf82e9291144a39",
       "version_major": 2,
       "version_minor": 0
      },
      "text/plain": [
       "Map:   0%|          | 0/15548 [00:00<?, ? examples/s]"
      ]
     },
     "metadata": {},
     "output_type": "display_data"
    },
    {
     "data": {
      "application/vnd.jupyter.widget-view+json": {
       "model_id": "0d1cddcf8c004fe5817b04dfcac47cda",
       "version_major": 2,
       "version_minor": 0
      },
      "text/plain": [
       "Map:   0%|          | 0/3887 [00:00<?, ? examples/s]"
      ]
     },
     "metadata": {},
     "output_type": "display_data"
    }
   ],
   "source": [
    "#Load the tokenizer\n",
    "#This converts the text into a sequence of text segments that the model was trained on (and can evaluate on)\n",
    "tokenizer = AutoTokenizer.from_pretrained(\"distilbert-base-uncased\")\n",
    "\n",
    "#Tokenize the titles in dataset using map function\n",
    "#Tokenizer pads the titles to the max length of 512 that the model has been trained to handle\n",
    "tokenized_dataset = dataset.map(lambda x: tokenizer(x['text'], padding=\"max_length\",truncation=True), batched=True)\n",
    "\n"
   ]
  },
  {
   "cell_type": "code",
   "execution_count": 17,
   "metadata": {},
   "outputs": [
    {
     "name": "stdout",
     "output_type": "stream",
     "text": [
      "[101, 1031, 12944, 1033, 26033, 3981, 3089, 24654, 5705, 2627, 3016, 5267, 1010, 4152, 7468, 1010, 8378, 2041, 2006, 1996, 2060, 2203, 1998, 4152, 2170, 2005, 1037, 2512, 1011, 25953, 6627, 102, 0, 0, 0, 0, 0, 0, 0, 0, 0, 0, 0, 0, 0, 0, 0, 0, 0, 0, 0, 0, 0, 0, 0, 0, 0, 0, 0, 0, 0, 0, 0, 0, 0, 0, 0, 0, 0, 0, 0, 0, 0, 0, 0, 0, 0, 0, 0, 0, 0, 0, 0, 0, 0, 0, 0, 0, 0, 0, 0, 0, 0, 0, 0, 0, 0, 0, 0, 0, 0, 0, 0, 0, 0, 0, 0, 0, 0, 0, 0, 0, 0, 0, 0, 0, 0, 0, 0, 0, 0, 0, 0, 0, 0, 0, 0, 0, 0, 0, 0, 0, 0, 0, 0, 0, 0, 0, 0, 0, 0, 0, 0, 0, 0, 0, 0, 0, 0, 0, 0, 0, 0, 0, 0, 0, 0, 0, 0, 0, 0, 0, 0, 0, 0, 0, 0, 0, 0, 0, 0, 0, 0, 0, 0, 0, 0, 0, 0, 0, 0, 0, 0, 0, 0, 0, 0, 0, 0, 0, 0, 0, 0, 0, 0, 0, 0, 0, 0, 0, 0, 0, 0, 0, 0, 0, 0, 0, 0, 0, 0, 0, 0, 0, 0, 0, 0, 0, 0, 0, 0, 0, 0, 0, 0, 0, 0, 0, 0, 0, 0, 0, 0, 0, 0, 0, 0, 0, 0, 0, 0, 0, 0, 0, 0, 0, 0, 0, 0, 0, 0, 0, 0, 0, 0, 0, 0, 0, 0, 0, 0, 0, 0, 0, 0, 0, 0, 0, 0, 0, 0, 0, 0, 0, 0, 0, 0, 0, 0, 0, 0, 0, 0, 0, 0, 0, 0, 0, 0, 0, 0, 0, 0, 0, 0, 0, 0, 0, 0, 0, 0, 0, 0, 0, 0, 0, 0, 0, 0, 0, 0, 0, 0, 0, 0, 0, 0, 0, 0, 0, 0, 0, 0, 0, 0, 0, 0, 0, 0, 0, 0, 0, 0, 0, 0, 0, 0, 0, 0, 0, 0, 0, 0, 0, 0, 0, 0, 0, 0, 0, 0, 0, 0, 0, 0, 0, 0, 0, 0, 0, 0, 0, 0, 0, 0, 0, 0, 0, 0, 0, 0, 0, 0, 0, 0, 0, 0, 0, 0, 0, 0, 0, 0, 0, 0, 0, 0, 0, 0, 0, 0, 0, 0, 0, 0, 0, 0, 0, 0, 0, 0, 0, 0, 0, 0, 0, 0, 0, 0, 0, 0, 0, 0, 0, 0, 0, 0, 0, 0, 0, 0, 0, 0, 0, 0, 0, 0, 0, 0, 0, 0, 0, 0, 0, 0, 0, 0, 0, 0, 0, 0, 0, 0, 0, 0, 0, 0, 0, 0, 0, 0, 0, 0, 0, 0, 0, 0, 0, 0, 0, 0, 0, 0, 0, 0, 0, 0, 0, 0, 0, 0, 0, 0, 0, 0, 0, 0, 0, 0, 0, 0, 0, 0, 0, 0, 0, 0, 0, 0, 0, 0, 0, 0, 0, 0, 0, 0, 0, 0, 0, 0, 0, 0, 0, 0, 0, 0, 0, 0, 0, 0, 0] [CLS] [ highlight ] gallinari dunks past baynes, gets shoved, boxes out on the other end and gets called for a non - existent tech [SEP] [PAD] [PAD] [PAD] [PAD] [PAD] [PAD] [PAD] [PAD] [PAD] [PAD] [PAD] [PAD] [PAD] [PAD] [PAD] [PAD] [PAD] [PAD] [PAD] [PAD] [PAD] [PAD] [PAD] [PAD] [PAD] [PAD] [PAD] [PAD] [PAD] [PAD] [PAD] [PAD] [PAD] [PAD] [PAD] [PAD] [PAD] [PAD] [PAD] [PAD] [PAD] [PAD] [PAD] [PAD] [PAD] [PAD] [PAD] [PAD] [PAD] [PAD] [PAD] [PAD] [PAD] [PAD] [PAD] [PAD] [PAD] [PAD] [PAD] [PAD] [PAD] [PAD] [PAD] [PAD] [PAD] [PAD] [PAD] [PAD] [PAD] [PAD] [PAD] [PAD] [PAD] [PAD] [PAD] [PAD] [PAD] [PAD] [PAD] [PAD] [PAD] [PAD] [PAD] [PAD] [PAD] [PAD] [PAD] [PAD] [PAD] [PAD] [PAD] [PAD] [PAD] [PAD] [PAD] [PAD] [PAD] [PAD] [PAD] [PAD] [PAD] [PAD] [PAD] [PAD] [PAD] [PAD] [PAD] [PAD] [PAD] [PAD] [PAD] [PAD] [PAD] [PAD] [PAD] [PAD] [PAD] [PAD] [PAD] [PAD] [PAD] [PAD] [PAD] [PAD] [PAD] [PAD] [PAD] [PAD] [PAD] [PAD] [PAD] [PAD] [PAD] [PAD] [PAD] [PAD] [PAD] [PAD] [PAD] [PAD] [PAD] [PAD] [PAD] [PAD] [PAD] [PAD] [PAD] [PAD] [PAD] [PAD] [PAD] [PAD] [PAD] [PAD] [PAD] [PAD] [PAD] [PAD] [PAD] [PAD] [PAD] [PAD] [PAD] [PAD] [PAD] [PAD] [PAD] [PAD] [PAD] [PAD] [PAD] [PAD] [PAD] [PAD] [PAD] [PAD] [PAD] [PAD] [PAD] [PAD] [PAD] [PAD] [PAD] [PAD] [PAD] [PAD] [PAD] [PAD] [PAD] [PAD] [PAD] [PAD] [PAD] [PAD] [PAD] [PAD] [PAD] [PAD] [PAD] [PAD] [PAD] [PAD] [PAD] [PAD] [PAD] [PAD] [PAD] [PAD] [PAD] [PAD] [PAD] [PAD] [PAD] [PAD] [PAD] [PAD] [PAD] [PAD] [PAD] [PAD] [PAD] [PAD] [PAD] [PAD] [PAD] [PAD] [PAD] [PAD] [PAD] [PAD] [PAD] [PAD] [PAD] [PAD] [PAD] [PAD] [PAD] [PAD] [PAD] [PAD] [PAD] [PAD] [PAD] [PAD] [PAD] [PAD] [PAD] [PAD] [PAD] [PAD] [PAD] [PAD] [PAD] [PAD] [PAD] [PAD] [PAD] [PAD] [PAD] [PAD] [PAD] [PAD] [PAD] [PAD] [PAD] [PAD] [PAD] [PAD] [PAD] [PAD] [PAD] [PAD] [PAD] [PAD] [PAD] [PAD] [PAD] [PAD] [PAD] [PAD] [PAD] [PAD] [PAD] [PAD] [PAD] [PAD] [PAD] [PAD] [PAD] [PAD] [PAD] [PAD] [PAD] [PAD] [PAD] [PAD] [PAD] [PAD] [PAD] [PAD] [PAD] [PAD] [PAD] [PAD] [PAD] [PAD] [PAD] [PAD] [PAD] [PAD] [PAD] [PAD] [PAD] [PAD] [PAD] [PAD] [PAD] [PAD] [PAD] [PAD] [PAD] [PAD] [PAD] [PAD] [PAD] [PAD] [PAD] [PAD] [PAD] [PAD] [PAD] [PAD] [PAD] [PAD] [PAD] [PAD] [PAD] [PAD] [PAD] [PAD] [PAD] [PAD] [PAD] [PAD] [PAD] [PAD] [PAD] [PAD] [PAD] [PAD] [PAD] [PAD] [PAD] [PAD] [PAD] [PAD] [PAD] [PAD] [PAD] [PAD] [PAD] [PAD] [PAD] [PAD] [PAD] [PAD] [PAD] [PAD] [PAD] [PAD] [PAD] [PAD] [PAD] [PAD] [PAD] [PAD] [PAD] [PAD] [PAD] [PAD] [PAD] [PAD] [PAD] [PAD] [PAD] [PAD] [PAD] [PAD] [PAD] [PAD] [PAD] [PAD] [PAD] [PAD] [PAD] [PAD] [PAD] [PAD] [PAD] [PAD] [PAD] [PAD] [PAD] [PAD] [PAD] [PAD] [PAD] [PAD] [PAD] [PAD] [PAD] [PAD] [PAD] [PAD] [PAD] [PAD] [PAD] [PAD] [PAD] [PAD] [PAD] [PAD] [PAD] [PAD] [PAD] [PAD] [PAD] [PAD] [PAD] [PAD] [PAD] [PAD] [PAD] [PAD] [PAD] [PAD] [PAD] [PAD] [PAD] [PAD] [PAD] [PAD] [PAD] [PAD] [PAD] [PAD] [PAD] [PAD] [PAD] [PAD] [PAD] [PAD] [PAD] [PAD] [PAD] [PAD] [PAD] [PAD] [PAD] [PAD] [PAD] [PAD] [PAD] [PAD] [PAD] [PAD] [PAD] [PAD] [PAD] [PAD] [PAD] [PAD] [PAD] [PAD] [PAD] [PAD] [PAD] [PAD] [PAD] [PAD]\n"
     ]
    }
   ],
   "source": [
    "#View first example from the tokenized dataset\n",
    "tokenized_example = tokenized_dataset['train']['input_ids'][0]\n",
    "decoded_tokenized_example = tokenizer.decode(tokenized_example)\n",
    "\n",
    "print(tokenized_example, decoded_tokenized_example)"
   ]
  },
  {
   "cell_type": "code",
   "execution_count": 18,
   "metadata": {},
   "outputs": [],
   "source": [
    "#Grab input_ids and attention_mask from the tokenized dataset and put them into a dictionary\n",
    "#This is the format that the model expects\n",
    "tokenized_dataset['train'].set_format(type='torch', columns=['input_ids', 'attention_mask', 'label'])\n",
    "\n"
   ]
  },
  {
   "cell_type": "code",
   "execution_count": 19,
   "metadata": {},
   "outputs": [
    {
     "name": "stderr",
     "output_type": "stream",
     "text": [
      "Some weights of the model checkpoint at distilbert-base-uncased were not used when initializing DistilBertModel: ['vocab_layer_norm.weight', 'vocab_projector.weight', 'vocab_layer_norm.bias', 'vocab_transform.bias', 'vocab_transform.weight', 'vocab_projector.bias']\n",
      "- This IS expected if you are initializing DistilBertModel from the checkpoint of a model trained on another task or with another architecture (e.g. initializing a BertForSequenceClassification model from a BertForPreTraining model).\n",
      "- This IS NOT expected if you are initializing DistilBertModel from the checkpoint of a model that you expect to be exactly identical (initializing a BertForSequenceClassification model from a BertForSequenceClassification model).\n"
     ]
    },
    {
     "data": {
      "text/plain": [
       "DistilBertModel(\n",
       "  (embeddings): Embeddings(\n",
       "    (word_embeddings): Embedding(30522, 768, padding_idx=0)\n",
       "    (position_embeddings): Embedding(512, 768)\n",
       "    (LayerNorm): LayerNorm((768,), eps=1e-12, elementwise_affine=True)\n",
       "    (dropout): Dropout(p=0.1, inplace=False)\n",
       "  )\n",
       "  (transformer): Transformer(\n",
       "    (layer): ModuleList(\n",
       "      (0-5): 6 x TransformerBlock(\n",
       "        (attention): MultiHeadSelfAttention(\n",
       "          (dropout): Dropout(p=0.1, inplace=False)\n",
       "          (q_lin): Linear(in_features=768, out_features=768, bias=True)\n",
       "          (k_lin): Linear(in_features=768, out_features=768, bias=True)\n",
       "          (v_lin): Linear(in_features=768, out_features=768, bias=True)\n",
       "          (out_lin): Linear(in_features=768, out_features=768, bias=True)\n",
       "        )\n",
       "        (sa_layer_norm): LayerNorm((768,), eps=1e-12, elementwise_affine=True)\n",
       "        (ffn): FFN(\n",
       "          (dropout): Dropout(p=0.1, inplace=False)\n",
       "          (lin1): Linear(in_features=768, out_features=3072, bias=True)\n",
       "          (lin2): Linear(in_features=3072, out_features=768, bias=True)\n",
       "          (activation): GELUActivation()\n",
       "        )\n",
       "        (output_layer_norm): LayerNorm((768,), eps=1e-12, elementwise_affine=True)\n",
       "      )\n",
       "    )\n",
       "  )\n",
       ")"
      ]
     },
     "execution_count": 19,
     "metadata": {},
     "output_type": "execute_result"
    }
   ],
   "source": [
    "#Check model architecture\n",
    "model_ref = \"distilbert-base-uncased\"\n",
    "test_model = AutoModel.from_pretrained(model_ref, config = AutoConfig.from_pretrained(model_ref, output_attentions = True, output_hidden_states=True))\n",
    "test_model.base_model"
   ]
  },
  {
   "cell_type": "code",
   "execution_count": 20,
   "metadata": {},
   "outputs": [
    {
     "name": "stdout",
     "output_type": "stream",
     "text": [
      "Length of model output is 3 representing the sequence output, pooled output, and hidden states\n",
      "Hidden states dimension is torch.Size([1, 512, 768])\n"
     ]
    }
   ],
   "source": [
    "#Check model output on first example from training set\n",
    "#Need to insert empty dimension for batch size (we have a batch size of 1)\n",
    "#Our model output has the dimensions (batch size, sequence length, hidden size)\n",
    "test_output = test_model(tokenized_dataset['train'][0]['input_ids'].unsqueeze(0), tokenized_dataset['train'][0]['attention_mask'].unsqueeze(0))\n",
    "#Check dimensions of test_output\n",
    "print(f'Length of model output is {len(test_output)} representing the sequence output, pooled output, and hidden states')\n",
    "print(f'Hidden states dimension is {test_output.hidden_states[0].shape}')\n"
   ]
  },
  {
   "cell_type": "code",
   "execution_count": 77,
   "metadata": {},
   "outputs": [
    {
     "data": {
      "text/plain": [
       "torch.Size([1, 512, 768])"
      ]
     },
     "execution_count": 77,
     "metadata": {},
     "output_type": "execute_result"
    }
   ],
   "source": [
    "#test_output[1] is a pooled output for a downstream classification task for distilbert\n",
    "#See answer here: https://stackoverflow.com/questions/60243099/what-is-the-meaning-of-the-second-output-of-huggingfaces-bert\n",
    "\n",
    "#Assume that distilbert did some sort of 7 class classification downstream task, so the tuple of 7 makes sense"
   ]
  },
  {
   "cell_type": "code",
   "execution_count": 21,
   "metadata": {},
   "outputs": [
    {
     "name": "stderr",
     "output_type": "stream",
     "text": [
      "Some weights of the model checkpoint at distilbert-base-uncased were not used when initializing DistilBertForSequenceClassification: ['vocab_layer_norm.weight', 'vocab_projector.weight', 'vocab_layer_norm.bias', 'vocab_transform.bias', 'vocab_transform.weight', 'vocab_projector.bias']\n",
      "- This IS expected if you are initializing DistilBertForSequenceClassification from the checkpoint of a model trained on another task or with another architecture (e.g. initializing a BertForSequenceClassification model from a BertForPreTraining model).\n",
      "- This IS NOT expected if you are initializing DistilBertForSequenceClassification from the checkpoint of a model that you expect to be exactly identical (initializing a BertForSequenceClassification model from a BertForSequenceClassification model).\n",
      "Some weights of DistilBertForSequenceClassification were not initialized from the model checkpoint at distilbert-base-uncased and are newly initialized: ['classifier.weight', 'pre_classifier.weight', 'classifier.bias', 'pre_classifier.bias']\n",
      "You should probably TRAIN this model on a down-stream task to be able to use it for predictions and inference.\n"
     ]
    },
    {
     "data": {
      "text/plain": [
       "DistilBertModel(\n",
       "  (embeddings): Embeddings(\n",
       "    (word_embeddings): Embedding(30522, 768, padding_idx=0)\n",
       "    (position_embeddings): Embedding(512, 768)\n",
       "    (LayerNorm): LayerNorm((768,), eps=1e-12, elementwise_affine=True)\n",
       "    (dropout): Dropout(p=0.1, inplace=False)\n",
       "  )\n",
       "  (transformer): Transformer(\n",
       "    (layer): ModuleList(\n",
       "      (0-5): 6 x TransformerBlock(\n",
       "        (attention): MultiHeadSelfAttention(\n",
       "          (dropout): Dropout(p=0.1, inplace=False)\n",
       "          (q_lin): Linear(in_features=768, out_features=768, bias=True)\n",
       "          (k_lin): Linear(in_features=768, out_features=768, bias=True)\n",
       "          (v_lin): Linear(in_features=768, out_features=768, bias=True)\n",
       "          (out_lin): Linear(in_features=768, out_features=768, bias=True)\n",
       "        )\n",
       "        (sa_layer_norm): LayerNorm((768,), eps=1e-12, elementwise_affine=True)\n",
       "        (ffn): FFN(\n",
       "          (dropout): Dropout(p=0.1, inplace=False)\n",
       "          (lin1): Linear(in_features=768, out_features=3072, bias=True)\n",
       "          (lin2): Linear(in_features=3072, out_features=768, bias=True)\n",
       "          (activation): GELUActivation()\n",
       "        )\n",
       "        (output_layer_norm): LayerNorm((768,), eps=1e-12, elementwise_affine=True)\n",
       "      )\n",
       "    )\n",
       "  )\n",
       ")"
      ]
     },
     "execution_count": 21,
     "metadata": {},
     "output_type": "execute_result"
    }
   ],
   "source": [
    "downstream_model = AutoModelForSequenceClassification.from_pretrained(\"distilbert-base-uncased\", num_labels=1)\n",
    "downstream_model.base_model"
   ]
  },
  {
   "cell_type": "code",
   "execution_count": 24,
   "metadata": {},
   "outputs": [],
   "source": [
    "#While we can use a higher level wrapped training loop and trainer class, we will write dissect the model architecture in order to show\n",
    "#both understanding of a general deep learning model and training loop, and incorporation of additional features that may be useful for regression\n",
    "\n",
    "#Define new nn.Module class incorporating the huggingface DISTILBERT model\n",
    "#We will grab the raw embedding output of the model and feed it into an MLP\n",
    "\n",
    "class DistilBertRegression(nn.Module):\n",
    "    def __init__(self, model_ref):\n",
    "        super(DistilBertRegression, self).__init__()\n",
    "        self.model = AutoModel.from_pretrained(model_ref, config = AutoConfig.from_pretrained(model_ref, output_attentions = True, output_hidden_states=True))\n",
    "        self.Dropout = nn.Dropout(0.2)\n",
    "        self.Linear = nn.Linear(768, 1)\n",
    "\n",
    "    def forward(self, input_ids = None, attention_mask = None, labels = None):\n",
    "        #Raw embedding output of model\n",
    "        outputs = self.model(input_ids = input_ids, attention_mask = attention_mask)\n",
    "        #Custom layers below\n",
    "        #1. Apply dropout to hidden states\n",
    "        last_hidden = self.Dropout(outputs[0])\n",
    "        #2. Apply linear\n",
    "        #Note that we need to transform the shape of last_hidden to be compatible with the linear layer\n",
    "        #last_hidden has shape (batch size, sequence length, hidden size)\n",
    "        #We will reshape last_hidden to (batch_size, hidden_size) by only taking the first token (second dimension)\n",
    "        #We will use torch \"view\" function to reshape the tensor\n",
    "        pred = self.Linear(last_hidden[:,0,:].view(-1, last_hidden.shape[-1])) #[batch_size, 768]\n",
    "        \n",
    "        #Compute loss if in training mode (i.e. labels are available)\n",
    "        loss = None\n",
    "        if labels is not None:\n",
    "            #Use squeeze to remove extra trivial dimensions of size 1\n",
    "            loss = nn.MSELoss()(pred.squeeze(), labels)\n",
    "        \n",
    "        #We will return the output in the TokenClassifierOutput format even though we're doing regression\n",
    "        #This format is packaged nicely for downstream tasks\n",
    "        return TokenClassifierOutput(loss = loss, logits = pred, hidden_states=outputs.hidden_states, attentions=outputs.attentions)\n",
    "        \n",
    "\n"
   ]
  },
  {
   "attachments": {},
   "cell_type": "markdown",
   "metadata": {},
   "source": [
    "Now we'll establish some sort of training loop, which involves simply doing gradient descent in batches on our training dataset over a set number of epochs, followed by evaluating on the validation set once finished.\n",
    "\n",
    "Let's first import all libraries associated with training visualization (status bars), optimizers, learning rates, etc. (all the good stuff).\n",
    "\n",
    "Since we're running pytorch on a mac, we need to use MPS instead of cuda for computation"
   ]
  },
  {
   "cell_type": "code",
   "execution_count": null,
   "metadata": {},
   "outputs": [],
   "source": [
    "#Checking if mps is available\n",
    "print(torch.backends.mps.is_built())"
   ]
  },
  {
   "cell_type": "code",
   "execution_count": 38,
   "metadata": {},
   "outputs": [],
   "source": [
    "device = torch.device(\"mps\" if torch.backends.mps.is_built() else \"cpu\")\n",
    "\n",
    "#Moving model to device (i.e. mps)\n",
    "model = DistilBertRegression(model_ref).to(device) #model_ref defined above as \"distilbert-base-uncased\""
   ]
  },
  {
   "cell_type": "code",
   "execution_count": null,
   "metadata": {},
   "outputs": [],
   "source": [
    "from tqdm.auto import tqdm\n",
    "from transformers import AdamW, get_scheduler\n",
    "\n",
    "#Setting up training parameters\n",
    "num_epochs = 3\n",
    "num_training_steps = num_epochs * len(tokenized_dataset['train'])\n",
    "num_testing_steps = num_epochs * len(tokenized_dataset['test'])\n",
    "\n",
    "#Setting up optimizer and scheduler\n",
    "optimizer = AdamW()\n",
    "\n",
    "#Setting up progress bar for training/validation\n",
    "progress_bar_train = tqdm(range(num_training_steps))\n",
    "progress_bar_valid = tqdm(range(num_testing_steps))\n",
    "\n"
   ]
  }
 ],
 "metadata": {
  "kernelspec": {
   "display_name": "hackathon",
   "language": "python",
   "name": "python3"
  },
  "language_info": {
   "codemirror_mode": {
    "name": "ipython",
    "version": 3
   },
   "file_extension": ".py",
   "mimetype": "text/x-python",
   "name": "python",
   "nbconvert_exporter": "python",
   "pygments_lexer": "ipython3",
   "version": "3.10.8"
  },
  "orig_nbformat": 4,
  "vscode": {
   "interpreter": {
    "hash": "22782bf086980a597813833627257b8fd0f2ec5b5fb163a3f665d2a9eebd03ff"
   }
  }
 },
 "nbformat": 4,
 "nbformat_minor": 2
}
